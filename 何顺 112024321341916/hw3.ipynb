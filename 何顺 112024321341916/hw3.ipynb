{
 "cells": [
  {
   "cell_type": "markdown",
   "metadata": {},
   "source": [
    "## algorithm design and anlysis-2025 spring  homework 3\n",
    "**Deadline**：2025.5.14\n",
    "\n",
    "**name**:\n",
    "\n",
    "\n",
    "note：\n",
    "---\n",
    "1. 带有\\*的题目，申请免上课的同学，必须完成，其他同学选作；\n",
    "2. 请独立完成，如求助了他人或者大模型，请著明，并且不可省略算法分析部分；\n",
    "4. 如若作答有雷同，全部取消成绩；\n",
    "3. 需要书面作答的题目，可以通过引用图片的形式添加，但是注意上传项目时包含所引用的图片的源文件；\n",
    "4. $log_n$ 默认表示$log_2{n}$;"
   ]
  },
  {
   "cell_type": "markdown",
   "metadata": {},
   "source": [
    "## 问题 1  \n",
    "\n",
    "请证明基于比较的排序算法计算复杂度下界为$\\Omega(nlogn)$"
   ]
  },
  {
   "cell_type": "markdown",
   "metadata": {},
   "source": [
    "you can refer a handwritten picture, pleas upload the picture in /fig/xxx.png\n",
    "answer："
   ]
  },
  {
   "cell_type": "markdown",
   "metadata": {},
   "source": [
    "作答过程在：\"图片\\hw3\\hw3-q1.png\""
   ]
  },
  {
   "cell_type": "markdown",
   "metadata": {},
   "source": [
    "## 问题 2 \n",
    "\n",
    "构建二叉搜索树\n",
    "\n",
    "> 1. 给定一个数组 [48, 33, 49, 47, 42, 46, 32], 构建一个二叉搜索树存储这些数据，请**绘制**所构建的**二叉搜索树**（标明结点的值）。\n",
    "> 2. 从第1问的二叉搜索树中删除33，请**绘制**删除33后的**二叉搜索树**（标明结点的值）\n",
    "\n",
    "- 推荐使用graphviz包绘制树的结构"
   ]
  },
  {
   "cell_type": "markdown",
   "metadata": {},
   "source": [
    "you can refer a handwritten picture, pleas upload the picture in /fig/xxx.png\n",
    "answer："
   ]
  },
  {
   "cell_type": "markdown",
   "metadata": {},
   "source": [
    "解答过程见“图片\\hw3\\hw3-q2.png”"
   ]
  },
  {
   "cell_type": "markdown",
   "metadata": {},
   "source": [
    "## 问题 3 \n",
    "\n",
    "> 下面是九门课程的开始和结束时间:\n",
    ">\n",
    "> [(9:00,12:30), (11:00,14:00), (13:00, 14:30), (9:00,10:30),(13:00, 14:30),(14:00,16:30), (15:00,16:30), (15:00,16:30), (9:00,10:30)]\n",
    ">\n",
    "> 请使用贪婪算法为这九门课分配教室，要求在同一天内安排这些课，并且每个教室同一时间只能安排一门课。\n",
    "\n",
    "**请问最少需要几间教室，罗列出每个教室安排的课程**"
   ]
  },
  {
   "cell_type": "markdown",
   "metadata": {},
   "source": [
    "idea：使用最早结束时间优先的贪婪策略；首先按结束时间排序：优先安排结束早的课程，以便教室能尽快空闲。  \n",
    "分配教室：维护一个列表记录当前已分配教室的最晚结束时间。  \n",
    "         对于每门课程，检查是否有教室的最后一门课已结束（即当前课程的开始时间>=该教室的最后一门课的结束时间）  \n",
    "         若有，则分配到该教室；若无，则开新教室；   "
   ]
  },
  {
   "cell_type": "code",
   "execution_count": 5,
   "metadata": {
    "vscode": {
     "languageId": "plaintext"
    }
   },
   "outputs": [
    {
     "name": "stdout",
     "output_type": "stream",
     "text": [
      "最少需要 4 间教室\n",
      "\n",
      "教室 1 安排的课程:\n",
      "课程 1: (9:00, 10:30)\n",
      "课程 5: (11:00, 14:00)\n",
      "课程 9: (15:00, 16:30)\n",
      "\n",
      "教室 2 安排的课程:\n",
      "课程 2: (9:00, 10:30)\n",
      "课程 6: (13:00, 14:30)\n",
      "\n",
      "教室 3 安排的课程:\n",
      "课程 3: (9:00, 10:30)\n",
      "课程 7: (13:00, 14:30)\n",
      "\n",
      "教室 4 安排的课程:\n",
      "课程 4: (9:00, 12:30)\n",
      "课程 8: (14:00, 16:30)\n"
     ]
    }
   ],
   "source": [
    "#code\n",
    "#借助大模型参考\n",
    "def min_rooms(intervals):\n",
    "    # 将课程按开始时间排序\n",
    "    intervals.sort()\n",
    "\n",
    "    # 使用最小堆来跟踪教室的最晚结束时间\n",
    "    import heapq\n",
    "    heap = []\n",
    "\n",
    "    for start, end in intervals:\n",
    "        # 如果最早结束的教室可以用于当前课程\n",
    "        if heap and heap[0] <= start:\n",
    "            heapq.heappop(heap)  # 复用该教室\n",
    "        heapq.heappush(heap, end)  # 更新教室的结束时间\n",
    "\n",
    "    return len(heap)\n",
    "\n",
    "\n",
    "def assign_rooms(intervals):\n",
    "    # 为每个课程添加索引，方便追踪\n",
    "    indexed_intervals = [(idx, start, end) for idx, (start, end) in enumerate(intervals)]\n",
    "\n",
    "    # 按开始时间排序\n",
    "    indexed_intervals.sort(key=lambda x: x[1])\n",
    "\n",
    "    # 使用优先队列（最小堆）存储教室的结束时间和教室编号\n",
    "    import heapq\n",
    "    heap = []\n",
    "    room_assignments = {}\n",
    "    next_room = 0\n",
    "\n",
    "    for idx, start, end in indexed_intervals:\n",
    "        # 检查是否有教室可用\n",
    "        if heap and heap[0][0] <= start:\n",
    "            _, room = heapq.heappop(heap)\n",
    "            room_assignments.setdefault(room, []).append((idx, (start, end)))\n",
    "        else:\n",
    "            room = next_room\n",
    "            next_room += 1\n",
    "            room_assignments.setdefault(room, []).append((idx, (start, end)))\n",
    "\n",
    "        # 将教室放回堆中\n",
    "        heapq.heappush(heap, (end, room))\n",
    "\n",
    "    return room_assignments\n",
    "\n",
    "\n",
    "# 课程时间数据\n",
    "courses = [\n",
    "    (9.0, 12.5),  # 0 (9:00,12:30)\n",
    "    (11.0, 14.0),  # 1 (11:00,14:00)\n",
    "    (13.0, 14.5),  # 2 (13:00,14:30)\n",
    "    (9.0, 10.5),  # 3 (9:00,10:30)\n",
    "    (9.0, 10.5),  # 4 (9:00,10:30)\n",
    "    (15.0, 16.5),  # 5 (15:00,16:30)\n",
    "    (9.0, 10.5),  # 6 (9:00,10:30)\n",
    "    (13.0, 14.5),  # 7 (13:00,14:30)\n",
    "    (14.0, 16.5)  # 8 (14:00,16:30)\n",
    "]\n",
    "\n",
    "# 计算最少需要的教室数量\n",
    "min_rooms_needed = min_rooms(courses)\n",
    "print(f\"最少需要 {min_rooms_needed} 间教室\")\n",
    "\n",
    "# 分配教室\n",
    "assignments = assign_rooms(courses)\n",
    "\n",
    "# 打印每个教室的课程安排\n",
    "for room in sorted(assignments.keys()):\n",
    "    courses_in_room = sorted(assignments[room], key=lambda x: x[1][0])\n",
    "    print(f\"\\n教室 {room + 1} 安排的课程:\")\n",
    "    for idx, (start, end) in courses_in_room:\n",
    "        # 转换时间格式为HH:MM\n",
    "        start_time = f\"{int(start)}:{'00' if start == int(start) else '30'}\"\n",
    "        end_time = f\"{int(end)}:{'00' if end == int(end) else '30'}\"\n",
    "        print(f\"课程 {idx + 1}: ({start_time}, {end_time})\")"
   ]
  },
  {
   "cell_type": "markdown",
   "metadata": {},
   "source": [
    "## 问题 4 \n",
    "\n",
    "> 爬楼梯问题：假设爬楼梯时你每次只能爬一阶或者爬两阶，问爬上n阶的楼梯，你一共有多少种方法\n",
    "\n",
    "请设计算法完成该问题，分析算法设计思路，计算时间复杂度，并基于python编程实现"
   ]
  },
  {
   "cell_type": "markdown",
   "metadata": {},
   "source": [
    "idea：可以通过构建一个数组 dp 来存储爬到每一阶楼梯的方法数。dp[i] 表示爬到第 i 阶楼梯的方法数。状态转移方程：dp[i]=dp[i-1]+dp[i-2]"
   ]
  },
  {
   "cell_type": "code",
   "execution_count": 16,
   "metadata": {},
   "outputs": [
    {
     "name": "stdout",
     "output_type": "stream",
     "text": [
      "爬10阶楼梯的方法数为：89\n"
     ]
    }
   ],
   "source": [
    "# add your code here\n",
    "def climbStairs(n):\n",
    "    if n <= 2:\n",
    "        return n\n",
    "    dp = [0] * (n + 1)\n",
    "    dp[0], dp[1] = 1, 1\n",
    "\n",
    "    # 动态规划计算dp[i]\n",
    "    for i in range(2, n + 1):\n",
    "        dp[i] = dp[i - 1] + dp[i - 2]\n",
    "    return dp[n]\n",
    "#e.g\n",
    "n = 10\n",
    "print(f\"爬{n}阶楼梯的方法数为：{climbStairs(n)}\")\n",
    "    \n",
    "# your algorithm time complexity is: O(n)"
   ]
  },
  {
   "cell_type": "markdown",
   "metadata": {},
   "source": [
    "## 问题 5 \n",
    "\n",
    "> 0-1背包问题：现在有4块大理石，每个大理石对应的重量和价值使用一个元组表示, 即（重量，价值），4块大理石的重量和价值为：[(5,10), (4,40), (6,30), (3, 50)], 假设你有一辆最大承重为9的小推车，请问使用这个小推车装大理石的最大价值为多少\n",
    "\n",
    "请设计一个算法解决该问题，分析算法设计思路，计算时间复杂度，并基于python编程实现"
   ]
  },
  {
   "cell_type": "markdown",
   "metadata": {},
   "source": [
    "idea：使用动态规划解决  \n",
    "定义dp[i][j]表示前i个物品中，背包容量为j时的最大价值。  \r\n",
    "对于第i个物品（重量w，价值v）  ：\r\n",
    "若j < w：无法放入，dp[i][j] = dp[i-1][  j]\r\n",
    "否则：比较放入和不放入的情况，dp[i][j] = max(dp[i-1][j], dp[i-1][j-w] +  \n",
    "\n",
    "dp[0][j] = 0（前0个物品价值为0）  \r\n",
    "dp[i][0] = 0（容量为0时价值为0  \n",
    "外层循环遍历物品，内层循环遍历背包容量（从0到最大承重）  ） v)"
   ]
  },
  {
   "cell_type": "code",
   "execution_count": 19,
   "metadata": {},
   "outputs": [
    {
     "name": "stdout",
     "output_type": "stream",
     "text": [
      "最大价值为: 90\n"
     ]
    }
   ],
   "source": [
    "# add your code here\n",
    "#此题解答借助大模型参考\n",
    "def knapsack_max_value(items, max_weight):\n",
    "    n = len(items)\n",
    "    # 初始化动态规划表，dp[i][j]表示前i个物品、容量j时的最大价值\n",
    "    dp = [[0] * (max_weight + 1) for _ in range(n + 1)]\n",
    "\n",
    "    for i in range(1, n + 1):\n",
    "        w, v = items[i - 1]\n",
    "        for j in range(1, max_weight + 1):\n",
    "            if j < w:\n",
    "                dp[i][j] = dp[i - 1][j]\n",
    "            else:\n",
    "                dp[i][j] = max(dp[i - 1][j], dp[i - 1][j - w] + v)\n",
    "\n",
    "    return dp[n][max_weight]\n",
    "\n",
    "\n",
    "#e.g\n",
    "items = [(5, 10), (4, 40), (6, 30), (3, 50)]\n",
    "max_weight = 9\n",
    "\n",
    "# 计算并输出结果\n",
    "max_value = knapsack_max_value(items, max_weight)\n",
    "print(f\"最大价值为: {max_value}\")\n",
    "\n",
    "# your algorithm time complexity is:O（nxw）n为物品数量，w为背包最大承重"
   ]
  },
  {
   "cell_type": "markdown",
   "metadata": {},
   "source": [
    "## 问题 6 \n",
    "给定 `n` 个非负整数表示每个宽度为 `1` 的柱子的高度图，计算按此排列的柱子，下雨之后能接多少雨水。\n",
    "\n",
    "\n",
    "\n",
    "<div style=\"text-align:center;width:800px;\"> <img alt=\"\" src=\"./fig/hw3q6.png\"> </div>\n",
    "\n",
    "请分析算法设计思路，计算时间复杂度，并基于python编程实现"
   ]
  },
  {
   "cell_type": "markdown",
   "metadata": {},
   "source": [
    "idea：使用暴力法：​​对于数组中的每一个元素，我们分别向左和向右扫描，找到当前元素左右两边最高的柱子​​。然后，这两个最高柱子中的较小值减去当前柱子的高度，就是当前柱子所在位置能够接住的雨水量。  \n",
    "具体步骤：  \n",
    "遍历数组中的每一个元素（除了第一个和最后一个，因为它们无法接水）。  \r\n",
    "对于当前元素，向左扫描找到左边最高的柱子 left_max  。\r\n",
    "向右扫描找到右边最高的柱子 right_ma  x。\r\n",
    "当前柱子能接的雨水量为 min(left_max, right_max) - height[current]（如果结果为  正）。\r\n",
    "将所有位置的雨水量累加，得到最  终结果。"
   ]
  },
  {
   "cell_type": "code",
   "execution_count": 22,
   "metadata": {},
   "outputs": [
    {
     "name": "stdout",
     "output_type": "stream",
     "text": [
      "6\n"
     ]
    }
   ],
   "source": [
    "# add your code here\n",
    "#此题借助大模型\n",
    "def trap_brute_force(height):\n",
    "    if not height:\n",
    "        return 0\n",
    "\n",
    "    n = len(height)\n",
    "    total_water = 0\n",
    "\n",
    "    for i in range(1, n - 1):\n",
    "        left_max = max(height[:i])\n",
    "        right_max = max(height[i + 1:])\n",
    "        water = min(left_max, right_max) - height[i]\n",
    "        if water > 0:\n",
    "            total_water += water\n",
    "\n",
    "    return total_water\n",
    "\n",
    "\n",
    "# e.g\n",
    "height = [0, 1, 0, 2, 1, 0, 1, 3, 2, 1, 2, 1]\n",
    "print(trap_brute_force(height))\n",
    "# your algorithm time complexity is:O（n^2）"
   ]
  },
  {
   "cell_type": "markdown",
   "metadata": {},
   "source": [
    "## 问题 7 \n",
    "\n",
    "**股票投资组合优化**： 假设你是一位投资者，想要在不同的股票中分配你的资金，以最大化你的投资回报。每只股票都有不同的预期收益率和风险。你的目标是选择一些股票，使得总投资金额不超过你的预算，并且预期收益最大化。\n",
    "\n",
    "在这个情况下，你可以将每只股票视为一个“物品”，其重量为投资金额，价值为预期收益率。然后，你可以使用分级背包问题的方法来选择部分股票，以便在预算内获得最大的预期收益。\n",
    "\n",
    "以下是一个简化的例子：\n",
    "\n",
    "假设你有以下三只股票可供选择：\n",
    "\n",
    "1. 股票 A：投资金额 5000 美元，预期收益率 10%\n",
    "2. 股票 B：投资金额 3000 美元，预期收益率 8%\n",
    "3. 股票 C：投资金额 2000 美元，预期收益率 12%\n",
    "\n",
    "请设计算法找到最优投资方案，分析算法设计思路，计算时间复杂度，并基于python编程实现"
   ]
  },
  {
   "cell_type": "markdown",
   "metadata": {},
   "source": [
    "idea：使用动态规划，主要思想：通过填表逐步求解子问题，记录前i只股票在预算j下的最大收益。  \n",
    "状态定义：dp[i][j]=前i只股票在预算j时的最大收益。\n",
    "状态转移方程：若当前股票投资金额<=预算：dp[i][j]=max(dp[i-1][j],dp[i-1][j-w_i]+v_i)，否则：dp[i][j]=dp[i-1][j]  \n",
    "初始化：dp[0][j]=0（无股票时收益为0）"
   ]
  },
  {
   "cell_type": "code",
   "execution_count": 1,
   "metadata": {},
   "outputs": [
    {
     "name": "stdout",
     "output_type": "stream",
     "text": [
      "最大收益: 740 美元\n",
      "选中股票: [(3000, 240), (5000, 500)]\n"
     ]
    }
   ],
   "source": [
    "# add your code here\n",
    "#此题借助大模型\n",
    "def max_profit(stocks, budget):\n",
    "    n = len(stocks)\n",
    "    dp = [[0] * (budget + 1) for _ in range(n + 1)]\n",
    "\n",
    "    for i in range(1, n + 1):\n",
    "        w, v = stocks[i - 1]\n",
    "        for j in range(1, budget + 1):\n",
    "            if w <= j:\n",
    "                dp[i][j] = max(dp[i - 1][j], dp[i - 1][j - w] + v)\n",
    "            else:\n",
    "                dp[i][j] = dp[i - 1][j]\n",
    "\n",
    "    # 回溯选中的股票\n",
    "    res = []\n",
    "    j = budget\n",
    "    for i in range(n, 0, -1):\n",
    "        if dp[i][j] != dp[i - 1][j]:\n",
    "            res.append(i - 1)\n",
    "            j -= stocks[i - 1][0]\n",
    "\n",
    "    return dp[n][budget], [stocks[i] for i in res]\n",
    "\n",
    "\n",
    "# e.g 输入：股票列表（重量, 价值），预算\n",
    "stocks = [(5000, 500), (3000, 240), (2000, 240)]\n",
    "budget = 8000\n",
    "max_val, selected = max_profit(stocks, budget)\n",
    "print(f\"最大收益: {max_val} 美元\")\n",
    "print(\"选中股票:\", selected)\n",
    "# your algorithm time complexity is:O（nxw）o是股票数量，w是预算"
   ]
  },
  {
   "cell_type": "markdown",
   "metadata": {},
   "source": [
    "## 问题 8\n",
    "\n",
    "给你二叉搜索树的根节点 root ，该树中的恰好两个节点的值被错误地交换。请在不改变其结构的情况下，恢复这棵树 。设计算法解决该问题，分析算法设计思路，计算时间复杂度，并基于python编程实现\n",
    "\n",
    "e.g.:\n",
    "---\n",
    "1.\n",
    "\n",
    "<div style=\"text-align:center;width:200px;\"> <img alt=\"\" src=\"./fig/hw3q9-1.jpg\"> </div>\n",
    "输入：root = [1,3,null,null,2]， 输出为：[3,1,null,null,2]， \n",
    "\n",
    "解释：3 不能是 1 的左孩子，因为 3 > 1 。交换 1 和 3 使二叉搜索树有效。\n",
    "\n",
    "2.\n",
    "\n",
    " <div style=\"text-align:center;width:200px;\"> <img alt=\"\" src=\"./fig/hw3q9-1.jpg\"> </div>\n",
    "输入： root=[3,1,4,null,null,2]， 输出为：[2,1,4,null,null,3]\n",
    "\n",
    "解释：2 不能在 3 的右子树中，因为 2 < 3 。交换 2 和 3 使二叉搜索树有效。"
   ]
  },
  {
   "cell_type": "markdown",
   "metadata": {},
   "source": [
    "idea：使用显示中序遍历BST：得到节点值得严格递增序列。  \n",
    "定位逆序列对：如果两个错误节点相邻，会出现一对逆序（比如[1，2，3，4]中的3和2）.  \n",
    "如果两个错误节点不相邻，会出现两对逆序（如[3，1，4，2]中的3，1和4，2）.  \n",
    "交换节点值：找到两个错误节点并交换它们的值。  "
   ]
  },
  {
   "cell_type": "code",
   "execution_count": 4,
   "metadata": {},
   "outputs": [
    {
     "name": "stdout",
     "output_type": "stream",
     "text": [
      "示例1输出: [3, 1, None, None, 2]\n",
      "示例2输出: [2, 1, 4, None, None, 3]\n"
     ]
    }
   ],
   "source": [
    "# add your code here\n",
    "#此题借助大模型\n",
    "class TreeNode:\n",
    "    def __init__(self, val=0, left=None, right=None):\n",
    "        self.val = val\n",
    "        self.left = left\n",
    "        self.right = right\n",
    "\n",
    "\n",
    "class Solution:\n",
    "    def recoverTree(self, root: TreeNode) -> None:\n",
    "        \"\"\"\n",
    "        显式中序遍历，定位错误节点并交换值\n",
    "        \"\"\"\n",
    "        nodes = []\n",
    "        self.inorder(root, nodes)  # 中序遍历得到节点列表\n",
    "\n",
    "        # 定位错误节点\n",
    "        x, y = None, None\n",
    "        for i in range(len(nodes) - 1):\n",
    "            if nodes[i].val > nodes[i + 1].val:\n",
    "                y = nodes[i + 1]  # 第二个错误节点\n",
    "                if x is None:\n",
    "                    x = nodes[i]  # 第一个错误节点\n",
    "                else:\n",
    "                    break  # 已经找到两对逆序\n",
    "\n",
    "        # 交换节点值\n",
    "        if x and y:\n",
    "            x.val, y.val = y.val, x.val\n",
    "\n",
    "    def inorder(self, root, nodes):\n",
    "        \"\"\"中序遍历辅助函数\"\"\"\n",
    "        if not root:\n",
    "            return\n",
    "        self.inorder(root.left, nodes)\n",
    "        nodes.append(root)\n",
    "        self.inorder(root.right, nodes)\n",
    "\n",
    "\n",
    "# 测试代码\n",
    "def build_tree(vals):\n",
    "    \"\"\"根据列表构建二叉树（None表示空节点）\"\"\"\n",
    "    if not vals:\n",
    "        return None\n",
    "    root = TreeNode(vals[0])\n",
    "    queue = [root]\n",
    "    i = 1\n",
    "    while queue and i < len(vals):\n",
    "        node = queue.pop(0)\n",
    "        if vals[i] is not None:\n",
    "            node.left = TreeNode(vals[i])\n",
    "            queue.append(node.left)\n",
    "        i += 1\n",
    "        if i < len(vals) and vals[i] is not None:\n",
    "            node.right = TreeNode(vals[i])\n",
    "            queue.append(node.right)\n",
    "        i += 1\n",
    "    return root\n",
    "\n",
    "\n",
    "def print_tree(root):\n",
    "    \"\"\"层次遍历打印树结构\"\"\"\n",
    "    if not root:\n",
    "        return []\n",
    "    queue = [root]\n",
    "    res = []\n",
    "    while queue:\n",
    "        node = queue.pop(0)\n",
    "        if node:\n",
    "            res.append(node.val)\n",
    "            queue.append(node.left)\n",
    "            queue.append(node.right)\n",
    "        else:\n",
    "            res.append(None)\n",
    "    # 去除末尾多余的None\n",
    "    while res and res[-1] is None:\n",
    "        res.pop()\n",
    "    return res\n",
    "\n",
    "\n",
    "#e.g1\n",
    "root1 = build_tree([1, 3, None, None, 2])\n",
    "Solution().recoverTree(root1)\n",
    "print(\"示例1输出:\", print_tree(root1))  \n",
    "\n",
    "#e.g2\n",
    "root2 = build_tree([3, 1, 4, None, None, 2])\n",
    "Solution().recoverTree(root2)\n",
    "print(\"示例2输出:\", print_tree(root2))  \n",
    "# your algorithm time complexity is:O（n）"
   ]
  },
  {
   "cell_type": "markdown",
   "metadata": {},
   "source": [
    "## 问题 9  \n",
    "\n",
    "给你一个二叉树的根节点 root ，树中每个节点都存放有一个 0 到 9 之间的数字。每条从根节点到叶节点的路径都代表一个数字：\n",
    "\n",
    "> 例如，从根节点到叶节点的路径 1 -> 2 -> 3 表示数字 123 。\n",
    "\n",
    "设计一个算法计算从根节点到叶节点生成的所有数字之和 ，分析算法设计思路，计算时间复杂度，并基于python编程实现\n",
    "\n",
    "叶节点:是指没有子节点的节点。\n",
    "\n",
    "e.g.:\n",
    "---\n",
    "1.\n",
    "\n",
    " <div style=\"text-align:center;width:200px;\"> <img alt=\"figure\" src=\"./fig/hw3q10-1.jpg\"> </div>\n",
    "\n",
    " 输入：root = [1,2,3], 输出：25\n",
    "\n",
    "解释：从根到叶子节点路径 1->2 代表数字 12，1->3 代表数字 13，因此和为 12 + 13 = 25 。\n",
    "\n",
    "2.\n",
    "\n",
    " <div style=\"text-align:center;width:200px;\"> <img alt=\"figure\" src=\"./fig/hw3q10-2.jpg\"> </div>\n",
    "\n",
    " 输入：root = [4,9,0,5,1], 输出：1026\n",
    "\n",
    "解释：从根到叶子节点路径 4->9->5 代表数字 495，4->9->1 代表数字 491，4->0 代表数字 40。因此和为 495 + 491 + 40 = 1026 。"
   ]
  },
  {
   "cell_type": "markdown",
   "metadata": {},
   "source": [
    "idea：使用深度优先（DFS）\n",
    "1.递归遍历：从根节点开始，递归访问每个节点，同时维护当前路径表示的数字。  \n",
    "2.终止条件：当遇到叶节点（无左右子节点）时，讲当前路径数字加入总和。  \n",
    "3.数字构建：每深入一层，当前数字current_sum=current_sum*10 + node.val"
   ]
  },
  {
   "cell_type": "code",
   "execution_count": 7,
   "metadata": {},
   "outputs": [
    {
     "name": "stdout",
     "output_type": "stream",
     "text": [
      "25\n",
      "1026\n"
     ]
    }
   ],
   "source": [
    "# add your code here\n",
    "#此题借助大模型\n",
    "class TreeNode:\n",
    "    def __init__(self, val=0, left=None, right=None):\n",
    "        self.val = val\n",
    "        self.left = left\n",
    "        self.right = right\n",
    "\n",
    "\n",
    "class Solution:\n",
    "    def sumNumbers(self, root: TreeNode) -> int:\n",
    "        def dfs(node, current_sum):\n",
    "            if not node:\n",
    "                return 0\n",
    "            current_sum = current_sum * 10 + node.val\n",
    "            if not node.left and not node.right:  # 叶节点\n",
    "                return current_sum\n",
    "            return dfs(node.left, current_sum) + dfs(node.right, current_sum)\n",
    "\n",
    "        return dfs(root, 0)\n",
    "\n",
    "\n",
    "# 辅助函数：根据列表构建二叉树（None表示空节点）\n",
    "def build_tree(vals):\n",
    "    if not vals:\n",
    "        return None\n",
    "    root = TreeNode(vals[0])\n",
    "    queue = [root]\n",
    "    i = 1\n",
    "    while queue and i < len(vals):\n",
    "        node = queue.pop(0)\n",
    "        if i < len(vals) and vals[i] is not None:\n",
    "            node.left = TreeNode(vals[i])\n",
    "            queue.append(node.left)\n",
    "        i += 1\n",
    "        if i < len(vals) and vals[i] is not None:\n",
    "            node.right = TreeNode(vals[i])\n",
    "            queue.append(node.right)\n",
    "        i += 1\n",
    "    return root\n",
    "\n",
    "\n",
    "#e.g\n",
    "if __name__ == \"__main__\":\n",
    "    # 示例1\n",
    "    root1 = build_tree([1, 2, 3])\n",
    "    print(Solution().sumNumbers(root1))\n",
    "\n",
    "    # 示例2\n",
    "    root2 = build_tree([4, 9, 0, 5, 1])\n",
    "    print(Solution().sumNumbers(root2))\n",
    "# your algorithm time complexity is:O(n)"
   ]
  },
  {
   "cell_type": "markdown",
   "metadata": {},
   "source": [
    "## 问题 10  \n",
    "\n",
    "给你一个二叉树的根节点 root ， 检查它是否轴对称。\n",
    "\n",
    "1. 分析算法设计思路，计算时间复杂度，并基于python编程实现\n",
    "2. \\* 设计使用递归和迭代两种方法解决这个问题，计算时间复杂度，并基于python编程实现\n",
    "\n",
    "e.g.:\n",
    "---\n",
    "1.\n",
    "\n",
    " <div style=\"text-align:center;width:200px;\"> <img alt=\"figure\" src=\"./fig/hw3q11-1.png\"> </div>\n",
    "\n",
    " 输入：root = [1,2,2,3,4,4,3]， 输出：true\n",
    "\n",
    "解释：二叉树 [1,2,2,3,4,4,3] 对称。\n",
    "\n",
    "2.\n",
    "\n",
    " <div style=\"text-align:center;width:200px;\"> <img alt=\"figure\" src=\"./fig/hw3q11-2.png\"> </div>\n",
    "\n",
    " 输入：root = [1,2,2,null,3,null,3]， 输出：false"
   ]
  },
  {
   "cell_type": "markdown",
   "metadata": {},
   "source": [
    "idea:递归比较镜像节点  \n",
    "主要思想：对称树的左子树和右子树必须互为镜像。  \n",
    "镜像条件：两个根节点值相同；左子树的左子树与右子树的右子树对称；左子树的右子树与右子树的左子树对称。  \n",
    "递归终止条件：  \n",
    "当两个节点均为 none→返回true。  \n",
    "一个节点为none另一个非none→返回False  \n",
    "节点值不相等→返回false"
   ]
  },
  {
   "cell_type": "code",
   "execution_count": 10,
   "metadata": {},
   "outputs": [
    {
     "name": "stdout",
     "output_type": "stream",
     "text": [
      "True\n",
      "False\n"
     ]
    }
   ],
   "source": [
    "# add your code here\n",
    "#此题借助大模型\n",
    "class TreeNode:\n",
    "    def __init__(self, val=0, left=None, right=None):\n",
    "        self.val = val\n",
    "        self.left = left\n",
    "        self.right = right\n",
    "\n",
    "\n",
    "class Solution:\n",
    "    def isSymmetric(self, root: TreeNode) -> bool:\n",
    "        if not root:\n",
    "            return True\n",
    "        return self.compare(root.left, root.right)\n",
    "\n",
    "    def compare(self, left: TreeNode, right: TreeNode) -> bool:\n",
    "        # 终止条件\n",
    "        if not left and not right:\n",
    "            return True\n",
    "        if not left or not right:\n",
    "            return False\n",
    "        if left.val != right.val:\n",
    "            return False\n",
    "        # 递归比较：左子树的左 vs 右子树的右，左子树的右 vs 右子树的左\n",
    "        return self.compare(left.left, right.right) and self.compare(left.right, right.left)\n",
    "\n",
    "\n",
    "# 辅助函数：根据列表构建二叉树（None表示空节点）\n",
    "def build_tree(vals):\n",
    "    if not vals:\n",
    "        return None\n",
    "    root = TreeNode(vals[0])\n",
    "    queue = [root]\n",
    "    i = 1\n",
    "    while queue and i < len(vals):\n",
    "        node = queue.pop(0)\n",
    "        if i < len(vals) and vals[i] is not None:\n",
    "            node.left = TreeNode(vals[i])\n",
    "            queue.append(node.left)\n",
    "        i += 1\n",
    "        if i < len(vals) and vals[i] is not None:\n",
    "            node.right = TreeNode(vals[i])\n",
    "            queue.append(node.right)\n",
    "        i += 1\n",
    "    return root\n",
    "\n",
    "\n",
    "#e.g\n",
    "if __name__ == \"__main__\":\n",
    "    # 示例1：对称树\n",
    "    root1 = build_tree([1, 2, 2, 3, 4, 4, 3])\n",
    "    print(Solution().isSymmetric(root1))  # 输出: True\n",
    "\n",
    "    # 示例2：非对称树\n",
    "    root2 = build_tree([1, 2, 2, None, 3, None, 3])\n",
    "    print(Solution().isSymmetric(root2))  # 输出: False\n",
    "# your algorithm time complexity is:O(n)"
   ]
  },
  {
   "cell_type": "markdown",
   "metadata": {},
   "source": [
    "## 问题 11  \n",
    "\n",
    "给你一个由 '1'（陆地）和 '0'（水）组成的的二维网格，请你计算网格中岛屿的数量。岛屿总是被水包围，并且每座岛屿只能由水平方向和/或竖直方向上相邻的陆地连接形成。\n",
    "\n",
    "此外，你可以假设该网格的四条边均被水包围。\n",
    "\n",
    "分析算法设计思路，计算时间复杂度，并基于python编程实现\n",
    "\n",
    "e.g.:\n",
    "---\n",
    "1.\n",
    "输入：grid = [\n",
    "\n",
    "    [\"1\",\"1\",\"1\",\"1\",\"0\"],\n",
    "\n",
    "    [\"1\",\"1\",\"0\",\"1\",\"0\"], \n",
    "\n",
    "    [\"1\",\"1\",\"0\",\"0\",\"0\"], \n",
    "\n",
    "    [\"0\",\"0\",\"0\",\"0\",\"0\"]  \n",
    "\n",
    "]\n",
    "\n",
    "输出：1\n",
    "\n",
    "2.\n",
    "输入：grid = [\n",
    "\n",
    "    [\"1\",\"1\",\"0\",\"0\",\"0\"],\n",
    "\n",
    "    [\"1\",\"1\",\"0\",\"0\",\"0\"],\n",
    "\n",
    "    [\"0\",\"0\",\"1\",\"0\",\"0\"],\n",
    "\n",
    "    [\"0\",\"0\",\"0\",\"1\",\"1\"]\n",
    "\n",
    "]\n",
    "\n",
    "输出：3"
   ]
  },
  {
   "cell_type": "markdown",
   "metadata": {},
   "source": [
    "idea:使用深度优先搜索  \n",
    "1.遍历网络:逐个检查每个单元格。  \n",
    "2.发现陆地：当遇到“1”时，启动DFS标记所有相连的陆地（避免重复计数）  \n",
    "3.标记访问：将访问过的陆地标记为“0”。（即“淹没”）"
   ]
  },
  {
   "cell_type": "code",
   "execution_count": 13,
   "metadata": {},
   "outputs": [
    {
     "name": "stdout",
     "output_type": "stream",
     "text": [
      "1\n",
      "3\n"
     ]
    }
   ],
   "source": [
    "# add your code here\n",
    "from typing import List\n",
    "\n",
    "\n",
    "class Solution:\n",
    "    def numIslands(self, grid: List[List[str]]) -> int:\n",
    "        if not grid:\n",
    "            return 0\n",
    "\n",
    "        count = 0\n",
    "        rows, cols = len(grid), len(grid[0])\n",
    "\n",
    "        def dfs(r, c):\n",
    "            if r < 0 or r >= rows or c < 0 or c >= cols or grid[r][c] != '1':\n",
    "                return\n",
    "            grid[r][c] = '0'  # 标记为已访问\n",
    "            # 递归访问四个方向\n",
    "            dfs(r + 1, c)\n",
    "            dfs(r - 1, c)\n",
    "            dfs(r, c + 1)\n",
    "            dfs(r, c - 1)\n",
    "\n",
    "        for r in range(rows):\n",
    "            for c in range(cols):\n",
    "                if grid[r][c] == '1':\n",
    "                    count += 1\n",
    "                    dfs(r, c)\n",
    "        return count\n",
    "\n",
    "\n",
    "#e.g\n",
    "if __name__ == \"__main__\":\n",
    "    # 示例1\n",
    "    grid1 = [\n",
    "        [\"1\", \"1\", \"1\", \"1\", \"0\"],\n",
    "        [\"1\", \"1\", \"0\", \"1\", \"0\"],\n",
    "        [\"1\", \"1\", \"0\", \"0\", \"0\"],\n",
    "        [\"0\", \"0\", \"0\", \"0\", \"0\"]\n",
    "    ]\n",
    "    print(Solution().numIslands(grid1))\n",
    "\n",
    "    # 示例2\n",
    "    grid2 = [\n",
    "        [\"1\", \"1\", \"0\", \"0\", \"0\"],\n",
    "        [\"1\", \"1\", \"0\", \"0\", \"0\"],\n",
    "        [\"0\", \"0\", \"1\", \"0\", \"0\"],\n",
    "        [\"0\", \"0\", \"0\", \"1\", \"1\"]\n",
    "    ]\n",
    "    print(Solution().numIslands(grid2))\n",
    "# your algorithm time complexity is:O(mXn)，其中m和n是网格的行数和列数。"
   ]
  },
  {
   "cell_type": "code",
   "execution_count": null,
   "metadata": {},
   "outputs": [],
   "source": []
  }
 ],
 "metadata": {
  "kernelspec": {
   "display_name": "Python 3 (ipykernel)",
   "language": "python",
   "name": "python3"
  },
  "language_info": {
   "codemirror_mode": {
    "name": "ipython",
    "version": 3
   },
   "file_extension": ".py",
   "mimetype": "text/x-python",
   "name": "python",
   "nbconvert_exporter": "python",
   "pygments_lexer": "ipython3",
   "version": "3.12.3"
  }
 },
 "nbformat": 4,
 "nbformat_minor": 4
}
