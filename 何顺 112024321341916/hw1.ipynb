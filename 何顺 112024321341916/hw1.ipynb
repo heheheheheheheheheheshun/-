{
 "cells": [
  {
   "cell_type": "markdown",
   "metadata": {
    "jp-MarkdownHeadingCollapsed": true
   },
   "source": [
    "## algorithm design and anlysis-2025 spring  homework 1 \n",
    "**Deadline**：2025.5.14\n",
    "\n",
    "**name**:\n",
    "\n",
    "\n",
    "note：\n",
    "---\n",
    "1. 带有\\*的题目，申请免上课的同学，必须完成，其他同学选作；\n",
    "2. 请独立完成，如求助了他人或者大模型，请著明，并且不可省略算法分析部分；\n",
    "4. 如若作答有雷同，全部取消成绩；\n",
    "3. 需要书面作答的题目，可以通过引用图片的形式添加，但是注意上传项目时包含所引用的图片的源文件；\n",
    "4. $log_n$ 默认表示$log_2{n}$;"
   ]
  },
  {
   "cell_type": "markdown",
   "metadata": {},
   "source": [
    "## 问题 1\n",
    "\n",
    "对于下面的每一对表达式(A, B), A是否能表示为B的 $\\Theta, \\Omega ,O$形式. 请注意, 这些关系中的零个、一个或多个可能成立。列出所有正确的。经常发生一些学生会,把指示写错, 所以请把关系写完整, 例如: $A = O(B),  A =\\Theta(B)$, 或$A = \\Omega(B)$。\n",
    "\n",
    "1. $A=n^2-100n, B=n^2$\n",
    "2. $A=logn, B=log_{1.2}n$\n",
    "3. $A=3^{2n}, B=2^{4n}$\n",
    "4. $A=2^{logn}, B=n$\n",
    "5. $A=\\log{\\log}{n},B=10^{10^{100}}$"
   ]
  },
  {
   "cell_type": "markdown",
   "metadata": {},
   "source": [
    "can refer a handwritten picture, pleas upload the picture in /fig/xxx.png\n",
    "answer:\n"
   ]
  },
  {
   "cell_type": "markdown",
   "metadata": {},
   "source": [
    "解答  \n",
    "1.A=Ω(B) 可以，A的增长速率不会超过B.  \n",
    "2.A=O(B) 可以，底数不会影响增长速率。  \n",
    "  A=Θ(B) 可以，底数不会影响增长速率。  \n",
    "  A=Ω(B) 可以，底数不会影响增长速率。  \n",
    "3.A=O(B) 可以，3^2n=9^n,2^4n=16^n,前者的增长速率没有后者快。  \n",
    "4.A=O(B) 可以，A=2^logn=n,和B一样。  \n",
    "  A=Θ(B) 可以，A=2^logn=n,和B一样。    \n",
    "  A=Ω(B) 可以，A=2^logn=n,和B一样。    \n",
    "5.A=O(B) 可以，A的增长速率比B慢，不会超过。    "
   ]
  },
  {
   "cell_type": "markdown",
   "metadata": {},
   "source": [
    "## 问题 2：\n",
    "\n",
    "假设有函数 $f$ 和 $g$ 使得 $f(n)$ = $O(g(n))$ 对于下面的每一个陈述, 请判断对错, 如果正确请给出证明, 否则请给出一个反例。\n",
    "\n",
    "1. $\\log{f(n)}$ = $O(\\log(1+g(n)))$\n",
    "2. $3^{f(n)}=O(3^{g(n)})$\n",
    "3. $(f(n))^2=O((g(n))^2)$ "
   ]
  },
  {
   "cell_type": "markdown",
   "metadata": {},
   "source": [
    "you can refer a handwritten picture, pleas upload the picture in /fig/xxx.png\n",
    "answer:"
   ]
  },
  {
   "cell_type": "markdown",
   "metadata": {},
   "source": [
    "解答见 “图片 /hw1/hw1-q2\""
   ]
  },
  {
   "cell_type": "markdown",
   "metadata": {},
   "source": [
    "## 问题 3\n",
    "\n",
    "根据下列递归公式, 计算下列 $T(n)$ 对应的的渐近上界。要求所求的边界尽可能的紧（tight）, 请写明步骤。\n",
    "\n",
    "1. $T(1)=1; T(n)=T(n/4)+1$ for $n>1$\n",
    "2. $T(1)=1;T(n)=3T(n/3)+n^2$ for $n>1$\n",
    "3. $T(1)=1;T(n)=T(2n/3)+1$ for $n>1$\n",
    "4. $T(1)=1;T(n)=5T(n/4)+n$ for $n>1$\n",
    "5. $T(n)=1 \\ for\\ n \\le 2 ; T(n)=T(\\sqrt{n})+1 \\ for \\ n>2$"
   ]
  },
  {
   "cell_type": "markdown",
   "metadata": {},
   "source": [
    "can refer a handwritten picture, pleas upload the picture in /fig/xxx.png\n",
    "answer:"
   ]
  },
  {
   "cell_type": "markdown",
   "metadata": {},
   "source": [
    "解答过程见“图片/hw1/hw1-q3”    \n",
    "\n",
    "注：此题解答借助了大模型"
   ]
  },
  {
   "cell_type": "markdown",
   "metadata": {},
   "source": [
    "## 问题 4：\n",
    "\n",
    "给定一个包含n个元素的数组 `profits` , 它的第 `i` 个元素 `profits[i]` 表示一支股票第 `i` 天的**收益**（正数表示涨, 负数表示跌）。你只能选择 **某一天** 买入这只股票, 并选择在 **未来的某一个不同的日子** 卖出该股票。\n",
    "\n",
    "1. 设计一个算法来计算你所能获取的最大利润和对应买入和卖出的日期。请分析算法方案, 计算其时间复杂度, 并且使用python编程实现该算法。\n",
    "\n",
    "2. \\* 设计一个时间复杂度为 $O(n)$的算法实现该算法\n",
    "\n",
    "e.g. :\n",
    "---\n",
    "profits=[3,2,1,-7,5,2,-1,3,-1], 第5天买入, 第8天卖出, 收益最大：9\n",
    "\n"
   ]
  },
  {
   "cell_type": "markdown",
   "metadata": {},
   "source": [
    "idea:使用两个循环，外层循环控制趟数，内层循环遍历每趟利润，利润相加，判断最大利润是否小于累加的利润，如果小于，则： 最大利润更  ，然后记录买入和卖出日期"
   ]
  },
  {
   "cell_type": "code",
   "execution_count": 6,
   "metadata": {},
   "outputs": [
    {
     "name": "stdout",
     "output_type": "stream",
     "text": [
      "第5天买入, 第8天卖出, 收益最大9,\n"
     ]
    }
   ],
   "source": [
    "# add your code\n",
    "def find(profits):\n",
    "    n=len(profits)\n",
    "    if(n<2):\n",
    "        return 0,-1,-1\n",
    "    profit = 0 \n",
    "    max_profit = 0 \n",
    "    buy_day = 1\n",
    "    sell_day = 1 \n",
    "    for i in range(len(profits)-1):\n",
    "        profit = profits[i]\n",
    "        for j in range(i + 1, len(profits)-1):\n",
    "            profit += profits[j]\n",
    "            if max_profit < profit:\n",
    "                max_profit = profit\n",
    "                buy_day = i + 1\n",
    "                sell_day = j + 1\n",
    "    return max_profit, buy_day, sell_day\n",
    "profits = [3, 2, 1,-7, 5, 2,-1, 3,-1]\n",
    "max_profit, buy_day, sell_day = find(profits)\n",
    "print(f\"第{buy_day}天买入, 第{sell_day}天卖出, 收益最大{max_profit},\" )\n",
    "\n",
    "\n",
    "# 时间复杂度O（n^2）"
   ]
  },
  {
   "cell_type": "code",
   "execution_count": null,
   "metadata": {},
   "outputs": [],
   "source": [
    "# an algorithm with O(n)"
   ]
  },
  {
   "cell_type": "markdown",
   "metadata": {},
   "source": [
    "## 问题 5：\n",
    "\n",
    "观察下方的分治算法（divide-and-conquer algorithm）的伪代码, 回答下面问题\n",
    "\n",
    "```latex\n",
    "DoSomething(A,p,r)\n",
    "-----\n",
    "n := r-p+1\n",
    "if n=2 and A[p]>A[r] then\n",
    "    swap A[p] and A[r]\n",
    "else if n >= 3 then\n",
    "    m = ceil(2n/3)\n",
    "    DoSomething(A,p,p+m-1)\n",
    "    DoSomething(A,r-m+1,r)\n",
    "    DoSomething(A,p,p+m-1)  \n",
    "    \n",
    "---\n",
    "first call: DoSomething(A,1,n)\n",
    "```\n",
    "\n",
    "note：$ceil(2n/3)=\\left\\lceil {2n/3} \\right\\rceil$；$:=$ 表示赋值, 等价于 $\\to$；A是一个包含n的整数元素的数组, \n",
    "\n",
    "1. 写出该算法时间复杂度的递归公式, 并求解其对应的渐进表示\n",
    "2. 描述一下该算法的功能, 并判断是否是最高效的解决方案\n",
    "3. 使用python编程实现上述算法或其对应的更高效版本的算法\n"
   ]
  },
  {
   "cell_type": "markdown",
   "metadata": {},
   "source": [
    "idea："
   ]
  },
  {
   "cell_type": "markdown",
   "metadata": {},
   "source": [
    "answer:1.T(n)=3T(n/3)O(nlogn)            \n",
    "    （2）该算法是一个用于排序的分治算法，将数组分为了三个部分，然后对每部分进行递归排序                                                             3\r\n",
    " )"
   ]
  },
  {
   "cell_type": "code",
   "execution_count": 25,
   "metadata": {},
   "outputs": [
    {
     "name": "stdout",
     "output_type": "stream",
     "text": [
      "[1, 2, 3, 4, 5, 6, 7, 8, 9]\n"
     ]
    }
   ],
   "source": [
    "# add your code here\n",
    "import math\n",
    "def do_something(A, p, r):\n",
    "    n = r - p + 1\n",
    "    if n == 2 and A[p] > A[r]:\n",
    "        A[p], A[r] = A[r], A[p]\n",
    "    elif n >= 3:\n",
    "        m = math.ceil(2 * n / 3)\n",
    "        do_something(A, p, p + m - 1)\n",
    "        do_something(A, r - m + 1, r)\n",
    "        do_something(A, p, p + m - 1)\n",
    "#e.g\n",
    "A = [8, 3, 5, 7, 6, 2, 9, 1, 4]\n",
    "do_something(A, 0, len(A) - 1)\n",
    "print(A)\n",
    "# your algorithm time complexity is :O（n）"
   ]
  },
  {
   "cell_type": "markdown",
   "metadata": {},
   "source": [
    "## 问题 6：\n",
    "\n",
    "给定一个大小为 `n` 的数组 `nums` , 返回其中的多数元素。多数元素是指在数组中出现次数 **大于** `⌊ n/2 ⌋` 的元素。\n",
    "\n",
    "你可以假设数组是非空的, 并且给定的数组总是存在多数元素。\n",
    "\n",
    "1. 设计一个算法找到给定数组的多数元素, 分析算法设计思路, 计算算法时间复杂度, 使用python编程实现\n",
    "2. \\* 设计时间复杂度为 O(n)、空间复杂度为 O(1) 的算法解决此问题, 分析算法设计思路, 使用python编程实现\n",
    "\n",
    "e.g.:\n",
    "---\n",
    "1. nums=[3,2,3], 返回3\n",
    "2. nums=[2,2,1,1,1,2,2], 返回2\n"
   ]
  },
  {
   "cell_type": "markdown",
   "metadata": {},
   "source": [
    "idea：选择一个候选元素 candidate 和一个计数器 count。\n",
    "遍历数组：对于数组中的每个元素，如果 count 为 0，则将该元素设置为 candidate 并将 count 设置为 1。如果该元素与 candidate 相同，则 count 加 1；如果不同，则 count 减 1元素"
   ]
  },
  {
   "cell_type": "code",
   "execution_count": 29,
   "metadata": {},
   "outputs": [
    {
     "name": "stdout",
     "output_type": "stream",
     "text": [
      "2\n"
     ]
    }
   ],
   "source": [
    "# add your code here\n",
    "def majority_element(nums):\n",
    "    candidate = None\n",
    "    count = 0\n",
    "    for num in nums:\n",
    "        if count == 0:\n",
    "            candidate = num\n",
    "        count += (1 if num == candidate else -1)\n",
    "\n",
    "    # Step 2: Verify the candidate\n",
    "    candidate_count = sum(1 for num in nums if num == candidate)\n",
    "    if candidate_count > len(nums) // 2:\n",
    "        return candidate\n",
    "    else:\n",
    "        return None\n",
    "nums = [2,2,1,1,1,2,2]\n",
    "print(majority_element(nums)) \n",
    "# your algorithm time complexity is :O（n）\n",
    "#注：此题略微借助大模型参考"
   ]
  },
  {
   "cell_type": "markdown",
   "metadata": {},
   "source": [
    "idea for 2\\*："
   ]
  },
  {
   "cell_type": "code",
   "execution_count": null,
   "metadata": {},
   "outputs": [],
   "source": [
    "# algorithm time complexity：O(n), space complexity:O(1)\n",
    "# add your code here"
   ]
  },
  {
   "cell_type": "markdown",
   "metadata": {},
   "source": [
    "## 问题 7：\n",
    "\n",
    "给定一个包含不同整数元素的数组 $ A[1..n]$ ,并且满足条件：$A[1]>A[2]$ 并且 $A[n-1]<A[n]$; 规定：如果一个元素比它两边的邻居元素都小, 即：$A[x]<A[x-1], A[x]<A[x+1]$ , 称这个元素A[x]为“局部最小”。通过遍历一次数组, 我们可以很容易在 $O(n)$的时间复杂度下找到一个局部最小值, \n",
    "\n",
    "\n",
    "1. 分析该问题, 设计一个算法在$O(logn)$的时间复杂度下找到一个局部最小(返回数值), 要求：分析算法设计思路, 并且使用python编程实现\n",
    "2. \\* 设计算法找出所有局部最小值, 分析算法设计思路, 并使用python编程实现\n",
    "\n",
    "e.g.:\n",
    "---\n",
    "A=[9, 3, 7, 2, 1, 4, 5 ] 时,  局部最小元素为 3, 1\n"
   ]
  },
  {
   "cell_type": "markdown",
   "metadata": {},
   "source": [
    "idea：使用二分查找，在[left,right]范围内，找到满足条件的中间位置mid，检查检查 A[mid] 是否比它的邻居都小。如果是，那么 A[mid] 就是一个局部最小值，继续在 [mid+1, right] 范围内查找更小的局部最小值；如果不是，那么局部最小值在 [left, mid-1] 范围内，继续在这个范围内查找。  "
   ]
  },
  {
   "cell_type": "code",
   "execution_count": 38,
   "metadata": {},
   "outputs": [
    {
     "name": "stdout",
     "output_type": "stream",
     "text": [
      "局部最小值为: 1\n"
     ]
    }
   ],
   "source": [
    "# add your code here\n",
    "def find_local_minimum(arr):\n",
    "    left, right = 0, len(arr) - 1\n",
    "\n",
    "    while left <= right:\n",
    "        mid = (left + right) // 2\n",
    "\n",
    "        left_neighbor = arr[mid - 1] if mid > 0 else float('inf')\n",
    "        right_neighbor = arr[mid + 1] if mid < len(arr) - 1 else float('inf')\n",
    "\n",
    "        if arr[mid] < left_neighbor and arr[mid] < right_neighbor:\n",
    "            return arr[mid]\n",
    "        if mid > 0 and arr[mid] > left_neighbor:\n",
    "            right = mid - 1\n",
    "        else:\n",
    "            left = mid + 1\n",
    "\n",
    "    return None\n",
    "A = [9, 3, 7, 2, 1, 4, 5]\n",
    "result = find_local_minimum(A)\n",
    "print(\"局部最小值为:\", result)\n",
    "# your algorithm time complexity is :O（logn）\n",
    "#注：此略微借助大模型参考"
   ]
  },
  {
   "cell_type": "markdown",
   "metadata": {},
   "source": [
    "idea:"
   ]
  },
  {
   "cell_type": "code",
   "execution_count": null,
   "metadata": {},
   "outputs": [],
   "source": [
    "# add your code here\n",
    "# your algorithm time complexity is :"
   ]
  },
  {
   "cell_type": "markdown",
   "metadata": {},
   "source": [
    "## 问题 8：\n",
    "\n",
    "给定包含n个不同数字的一组数, 寻找一种基于比较的算法在这组数中找到k个最小的数字, 并按顺序输出它们。\n",
    "\n",
    "1. 将n个数先进行排序, 然后按顺序输出最小的k个数。要求：选择合适的排序算法实现上述操作, 计算算法时间复杂度, 并使用python编程实现。\n",
    "2. 建立一个包含这n个数的堆（heap）, 并且调用 k 次Extract-min 按顺序输出最小的k个数。使用往空堆中不断插入元素的方法建立堆, 分析这种方法建堆的时间复杂度, 并使用python编程实现\n",
    "3. \\* 假设数组中包含的数据总数目超过了计算机的存储能力, 请设计一个算法, 找到这堆数据的前k小的数值, 计算时间复杂度, 并使用python实现该算法, 假设计算机一定能存储k个数据。\n",
    "\n",
    "e.g.：\n",
    "---\n",
    "数组arr=[5,4,3,2,6,1,88,33,22,107] 的前3个最小数据为：1, 2, 3\n"
   ]
  },
  {
   "cell_type": "markdown",
   "metadata": {},
   "source": [
    "idea：1 使用快速排序算法，平均时间复杂度为O(nlogn)"
   ]
  },
  {
   "cell_type": "code",
   "execution_count": 46,
   "metadata": {},
   "outputs": [
    {
     "name": "stdout",
     "output_type": "stream",
     "text": [
      "[1, 2, 3]\n"
     ]
    }
   ],
   "source": [
    "# add your code here\n",
    "#第一小问\n",
    "def partition(nums, low, high):\n",
    "    pivot = nums[high]\n",
    "    i = low - 1\n",
    "    for j in range(low, high):\n",
    "        if nums[j] < pivot:\n",
    "            i += 1\n",
    "            nums[i], nums[j] = nums[j], nums[i]\n",
    "    nums[i + 1], nums[high] = nums[high], nums[i + 1]\n",
    "    return i + 1\n",
    "def quick_sort(nums, low, high):\n",
    "    if low < high:\n",
    "        pi = partition(nums, low, high)\n",
    "        quick_sort(nums, low, pi - 1)\n",
    "        quick_sort(nums, pi + 1, high)\n",
    "def find_k_smallest_numbers(nums, k):\n",
    "    quick_sort(nums, 0, len(nums) - 1)\n",
    "    return nums[:k]\n",
    "\n",
    "#e.g\n",
    "nums = [5, 4, 3, 2, 6, 1, 88, 33, 22, 107]\n",
    "k = 3\n",
    "print(find_k_smallest_numbers(nums, k))\n",
    "# your algorithm time complexity is :O(nlogn)"
   ]
  },
  {
   "cell_type": "code",
   "execution_count": 97,
   "metadata": {},
   "outputs": [
    {
     "name": "stdout",
     "output_type": "stream",
     "text": [
      "[1, 2, 3]\n"
     ]
    }
   ],
   "source": [
    "#此问借助了大模型参考\n",
    "#第二小问\n",
    "class MinHeap:\n",
    "    def __init__(self):\n",
    "        self.heap = []\n",
    "    \n",
    "    def push(self, val):\n",
    "        self.heap.append(val)\n",
    "        self._sift_up(len(self.heap)-1)\n",
    "    \n",
    "    def pop(self):\n",
    "        if not self.heap:\n",
    "            return None\n",
    "        self._swap(0, len(self.heap)-1)\n",
    "        val = self.heap.pop()\n",
    "        self._sift_down(0)\n",
    "        return val\n",
    "    \n",
    "    def _sift_up(self, idx):\n",
    "        while idx > 0:\n",
    "            parent = (idx-1)//2\n",
    "            if self.heap[idx] < self.heap[parent]:\n",
    "                self._swap(idx, parent)\n",
    "                idx = parent\n",
    "            else:\n",
    "                break\n",
    "    \n",
    "    def _sift_down(self, idx):\n",
    "        while 2*idx+1 < len(self.heap):\n",
    "            left = 2*idx+1\n",
    "            right = 2*idx+2\n",
    "            min_child = left\n",
    "            if right < len(self.heap) and self.heap[right] < self.heap[left]:\n",
    "                min_child = right\n",
    "            if self.heap[min_child] < self.heap[idx]:\n",
    "                self._swap(idx, min_child)\n",
    "                idx = min_child\n",
    "            else:\n",
    "                break\n",
    "    \n",
    "    def _swap(self, i, j):\n",
    "        self.heap[i], self.heap[j] = self.heap[j], self.heap[i]\n",
    "\n",
    "def find_k_smallest_heap(arr, k):\n",
    "    heap = MinHeap()\n",
    "    # 建堆 O(n log n)\n",
    "    for num in arr:\n",
    "        heap.push(num)\n",
    "    # 取前k小 O(k log n)\n",
    "    return [heap.pop() for _ in range(k)]\n",
    "\n",
    "# 测试\n",
    "arr = [4, 1, 7, 3, 9, 2]\n",
    "k = 3\n",
    "print(find_k_smallest_heap(arr, k))  # 输出 [1, 2, 3]\n",
    "#时间复杂度为O(nlogn)\n",
    "#此问借助了大模型参考 "
   ]
  },
  {
   "cell_type": "markdown",
   "metadata": {},
   "source": [
    "## 问题 9：\n",
    "\n",
    "**选择问题**:给定一个包含n个未排序值的数组A和一个$k≤n$的整数, 返回A中最小的第k项。\n",
    "\n",
    "在课堂上, 学了一个简单的O(n)随机算法来解决选择问题。事实上还有一种更复杂的最坏情况下时间复杂度为$O(n)$ 的选择算法。假设使用一个黑盒过程来实现这个O(n)选择算法: 给定一个数组A、 $p < r$ 和 k,  $BB(A, p, r, k)$ 可以在$O(r−p+ 1)$时间内找到并报告$A[p..r]$中第k小的项的下标。假设你可以在线性时间内处理Partition过程。\n",
    "\n",
    "1. 请分析如何修改 Quicksork 算法可以使其最差情况下的运行时间为 $O(nlogn)$, 使用伪代码实现, 并分析为何修改后的版本最差情况的运行时间为$O(nlogn)$\n",
    "\n",
    "note: 伪代码中, 你可以直接调用用` BB(A,p,r,k)`这个函数用于表示在最坏情况下时间复杂度为$O(n)$的选择算法；\n",
    "\n",
    "\n",
    "\n",
    "2. 找到一个更好的算法报告数组A中的前k小的项, 使用伪代码表示你的算法, 并分析你算法的时间复杂度。\n",
    "\n",
    "举例：A=[13, 3, 7, 9, 11, 1, 15, 2, 8, 10, 12, 16, 14, 5], 当k=4时, 应该报告1, 2, 3, 4\n",
    "\n",
    "note： 最直观的方法就是先将数组A排序, 然后从左向右报告其前k项, 这样操作的时间复杂度为$O(nlogn)$. 调用用` BB(A,p,r,k)`设计一个算法使其报告无序数组A的前k项, 满足时间复杂度好于$\\Theta(nlogn)$, 并且当$k=\\sqrt{n}$时, 你设计的算法时间复杂度应该为$\\Theta(n)$.\n",
    "\n",
    "\n",
    "\n",
    "3. 给定一个大小为n的数组, 找到一个 时间复杂度为$O(n log k)$ 的算法, 该算法将A中的元素重新排序, 使它们被划分为k个部分, 每个部分的元素小于或等于下一部分的元素。假设n和k都是2的幂。使用伪代码表示你的算法, 并分析时间复杂度。\n",
    "\n",
    "e.g.:\n",
    "---\n",
    "数组：[1,  3,  5,  7,  9,  11,  13,  15,  2,  4,  6,  8,  10,  12,  16,  14], k=4, \n",
    "\n",
    "对应重新排序的数组为：[1,  3,  2,  4]  [7,  6,  5,  8]  [12,  11,  10,  9]  [13,  14,  16,  15]\n",
    "\n",
    "\n"
   ]
  },
  {
   "cell_type": "markdown",
   "metadata": {},
   "source": [
    "注：本题参考了大模型  \n",
    "第一问：伪代码  \n",
    "```latex\n",
    "MODIFIED-QUICKSORT(A, p, r):\n",
    "    if p < r:\n",
    "        // 使用黑盒选择算法找到中位数\n",
    "        median_idx = BB(A, p, r, (r-p+1)/2)\n",
    "        \n",
    "        // 将中位数交换到末尾作为pivot\n",
    "        SWAP(A[median_idx], A[r])\n",
    "        \n",
    "        q = PARTITION(A, p, r)\n",
    "        MODIFIED-QUICKSORT(A, p, q-1)\n",
    "        MODIFIED-QUICKSORT(A, q+1, r)\n",
    "\n",
    "PARTITION(A, p, r):\n",
    "    pivot = A[r]\n",
    "    i = p - 1\n",
    "    for j = p to r-1:\n",
    "        if A[j] ≤ pivot:\n",
    "            i = i + 1\n",
    "            SWAP(A[i], A[j])\n",
    "    SWAP(A[i+1], A[r])\n",
    "    return i+1\n",
    "```\n",
    "时间复杂度分析：每次递归都能将数组精确分为两部分，递归深度：O(logn)每层工作量：O(n)（选择中位数）+ O(n)（partition），总时间复杂度：O(nlogn)  \n",
    "\n",
    "第二问：伪代码  \n",
    "```latex\n",
    "FIND-K-SMALLEST(A, k):\n",
    "    if k == 0:\n",
    "        return []\n",
    "    \n",
    "    // 找到第k小的元素\n",
    "    kth_idx = BB(A, 0, length(A)-1, k)\n",
    "    pivot = A[kth_idx]\n",
    "    \n",
    "    // 划分数组\n",
    "    left = [x ∈ A | x < pivot]\n",
    "    equals = [x ∈ A | x == pivot]\n",
    "    \n",
    "    // 递归处理\n",
    "    if length(left) ≥ k:\n",
    "        return FIND-K-SMALLEST(left, k)\n",
    "    else:\n",
    "        return left + equals[(k-length(left))]\n",
    "```\n",
    "时间复杂度分析：BB选择算法：O(n)数组划分：O(n)递归深度：O(1)（每次至少排除n/2元素），所以总时间复杂度：O(n)  \n",
    "第三问：伪代码：  \n",
    "```latex\n",
    "K-WAY-PARTITION(A, k):\n",
    "    if k == 1:\n",
    "        return A\n",
    "    \n",
    "    // 将数组分为两部分\n",
    "    mid = length(A) / 2\n",
    "    left = K-WAY-PARTITION(A[mid], k/2)\n",
    "    right = K-WAY-PARTITION(A[mid+1..length(A)], k/2)\n",
    "    \n",
    "    // 合并时交替取元素\n",
    "    result = []\n",
    "    for i = 1 to max(length(left), length(right)):\n",
    "        if i ≤ length(left):\n",
    "            result.append(left[i])\n",
    "        if i ≤ length(right):\n",
    "            result.append(right[i])\n",
    "    return result\n",
    "```\n",
    "时间复杂度分析：递归深度：O(logk)，每层工作量：O(n)，所以总时间复杂度：O(nlogk)。  "
   ]
  },
  {
   "cell_type": "markdown",
   "metadata": {},
   "source": [
    "## 问题 10：\n",
    "\n",
    "给定一个包含m个**字符串**的数组A, 其中不同的字符串可能有不同的字符数, 但数组中所有字符串的字符总数为n。设计一个算法在 $O(n)$ 时间内对字符串进行排序, 分析算法设计方案, 计算其时间复杂度, 并基于python编程实现该算法。请注意, 假设字符串只包含\"a\",\"b\",...,\"z\", \n",
    "\n",
    "\n",
    "\n",
    "举例1：数组A=[\"a\", \"da\", \"bde\", \"ab\", \"bc\", \"abdc\", \"cdba\"], 排序后的数组应该为：['a', 'ab', 'abdc', 'bc', 'bde', 'cdba', 'da']\n",
    "\n",
    "\n",
    "\n",
    "举例2：数组A=['ab', 'a', 'b', 'abc', 'ba', 'c'], 排序后的数组应该为：\n",
    "\n",
    "['a', 'ab', 'abc', 'b', 'ba', 'c']\n",
    "\n",
    "\n",
    "\n",
    "举例3：数组A=['aef', 'yzr', 'wr', 'ab', 'bhjc', 'lkabdc', 'pwcdba'],  排序后的数组应该为：['ab', 'aef', 'bhjc', 'lkabdc', 'pwcdba', 'wr', 'yzr']\n",
    "\n",
    "\n",
    "\n",
    "note：\n",
    "\n",
    "-  两个字符之间的比较可以考虑比较他们对应的ASCII码值；\n",
    "- python中可以使用`ord(\"a\")`返回字符 “a”对应的ASCII值"
   ]
  },
  {
   "cell_type": "markdown",
   "metadata": {},
   "source": [
    "idea:首先需要统计每个字符在字符串数组中出现的次数。然后，需要累加这些计数，以便在排序过程中知道每个字符应该放置的位置。最后，根据累加的计数，从后向前构建排序后的数组。"
   ]
  },
  {
   "cell_type": "code",
   "execution_count": 94,
   "metadata": {},
   "outputs": [
    {
     "name": "stdout",
     "output_type": "stream",
     "text": [
      "原来的字符串: ['a', 'da', 'bde', 'ab', 'bc', 'abdc', 'cdba']\n",
      "排序后的字符串: ['a', 'ab', 'abdc', 'bc', 'bde', 'cdba', 'da']\n",
      "\n",
      "原来的字符串: ['ab', 'a', 'b', 'abc', 'ba', 'c']\n",
      "排序后的字符串: ['a', 'ab', 'abc', 'b', 'ba', 'c']\n",
      "\n",
      "原来的字符串: ['aef', 'yzr', 'wr', 'ab', 'bhjc', 'lkabdc', 'pwcdba']\n",
      "排序后的字符串: ['ab', 'aef', 'bhjc', 'lkabdc', 'pwcdba', 'wr', 'yzr']\n",
      "\n"
     ]
    }
   ],
   "source": [
    "# add your code here\n",
    "#此题借助大模型\n",
    "def sort_strings(A):\n",
    "    max_len = max(len(s) for s in A)\n",
    "    for i in range(max_len - 1, -1, -1):\n",
    "        # 创建26个桶加一个特殊桶用于长度小于当前处理长度的字符串\n",
    "        buckets = {chr(k): [] for k in range(ord('a'), ord('z') + 1)}\n",
    "        special_bucket = []\n",
    "        for s in A:\n",
    "            if len(s) <= i:\n",
    "                special_bucket.append(s)\n",
    "            else:\n",
    "                buckets[s[i]].append(s)\n",
    "        # 重新组合回列表\n",
    "        A = special_bucket\n",
    "        for k in range(ord('a'), ord('z') + 1):\n",
    "            A.extend(buckets[chr(k)])\n",
    "    return A\n",
    "# 测试\n",
    "arrays = [[\"a\", \"da\", \"bde\", \"ab\", \"bc\", \"abdc\", \"cdba\"],\n",
    "          ['ab', 'a', 'b', 'abc', 'ba', 'c'],\n",
    "          ['aef', 'yzr', 'wr', 'ab', 'bhjc', 'lkabdc', 'pwcdba']]\n",
    "for A in arrays:\n",
    "    print(f\"原来的字符串: {A}\")\n",
    "    sorted_array = sort_strings(A)\n",
    "    print(f\"排序后的字符串: {sorted_array}\\n\")\n",
    "\n",
    "# your algorithm time complexity is :"
   ]
  }
 ],
 "metadata": {
  "kernelspec": {
   "display_name": "Python 3 (ipykernel)",
   "language": "python",
   "name": "python3"
  },
  "language_info": {
   "codemirror_mode": {
    "name": "ipython",
    "version": 3
   },
   "file_extension": ".py",
   "mimetype": "text/x-python",
   "name": "python",
   "nbconvert_exporter": "python",
   "pygments_lexer": "ipython3",
   "version": "3.12.3"
  }
 },
 "nbformat": 4,
 "nbformat_minor": 4
}
