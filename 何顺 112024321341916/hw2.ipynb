{
 "cells": [
  {
   "cell_type": "markdown",
   "metadata": {},
   "source": [
    "## algorithm design and anlysis-2025 spring  homework 2\n",
    "**Deadline**：2025.5.14\n",
    "\n",
    "**name**:\n",
    "\n",
    "\n",
    "note：\n",
    "---\n",
    "1. 带有\\*的题目，申请免上课的同学，必须完成，其他同学选作；\n",
    "2. 请独立完成，如求助了他人或者大模型，请著明，并且不可省略算法分析部分；\n",
    "4. 如若作答有雷同，全部取消成绩；\n",
    "3. 需要书面作答的题目，可以通过引用图片的形式添加，但是注意上传项目时包含所引用的图片的源文件；\n",
    "4. $log_n$ 默认表示$log_2{n}$;"
   ]
  },
  {
   "cell_type": "markdown",
   "metadata": {},
   "source": [
    "## 问题 1  \n",
    "\n",
    "> 给定一个已排序的链表的头 `head` ， *删除所有重复的元素，使每个元素只出现一次* 。返回 *已排序的链表* 。链表的类如下所示：\n",
    "\n",
    "```python\n",
    "class NodeList:\n",
    "    def __init__(self, val=None, right=None):\n",
    "        self.val   = val\n",
    "        self.right = right\n",
    "```\n",
    "\n",
    "输入是一个数组，你首先需要将数组转化为链表，然后删除链表中的重复元素，再遍历链表元素，以一个数组的形式返回。请设计一个算法解决上述任务，分析算法设计思路，计算时间复杂度, 并基于python编程实现。\n",
    "\n",
    "e.g.  输入：head=[1, 1, 2, 3, 3]   输出：[1, 2, 3]\n",
    "\n",
    "![image-20240502110020439](./fig/hw2q1.png)\n",
    "\n"
   ]
  },
  {
   "cell_type": "markdown",
   "metadata": {},
   "source": [
    "idea：首先创建一个节点，它的right指针指向链表的头节点。然后遍历链表，如果当前节点的值与下一个节点的值相同，则删除下一个节点。否则，继续遍历。最后再次遍历链表，将所有不重复的节点的值收集到数组中。"
   ]
  },
  {
   "cell_type": "code",
   "execution_count": 6,
   "metadata": {},
   "outputs": [
    {
     "name": "stdout",
     "output_type": "stream",
     "text": [
      "[1, 2, 3]\n"
     ]
    }
   ],
   "source": [
    "# add your idea here\n",
    "class ListNode:\n",
    "    def __init__(self, val=0, next=None):\n",
    "        self.val = val\n",
    "        self.next = next\n",
    "#删除重复元素\n",
    "def deleteDuplicates(head):\n",
    "    # 头节点\n",
    "    current = head\n",
    "    # 遍历链表\n",
    "    while current.next is not None:\n",
    "        # 如果当前节点的值和下一个相同\n",
    "        if current.val == current.next.val:\n",
    "            # 删除下一个节点\n",
    "            current.next = current.next.next\n",
    "        else:\n",
    "            # 继续遍历\n",
    "            current = current.next\n",
    "    return head\n",
    "### 将数组转化为链表\n",
    "def array_to_list(arr):\n",
    "    head = ListNode(arr[0])\n",
    "    current = head\n",
    "    for val in arr[1:]:\n",
    "        current.next = ListNode(val)\n",
    "        current = current.next\n",
    "    return head\n",
    "###将链表转化为数组\n",
    "def list_to_array(head):\n",
    "    result = []\n",
    "    current = head\n",
    "    # 遍历链表，将节点值添加到数组中\n",
    "    while current:\n",
    "        result.append(current.val)\n",
    "        current = current.next  \n",
    "    return result\n",
    "### e.g\n",
    "# 首先将数组转化为链表\n",
    "head = array_to_list([1, 1, 2, 3, 3])\n",
    "# 然后删除重复元素\n",
    "head = deleteDuplicates(head)\n",
    "# 最后将链表转化为数组并输出\n",
    "print(list_to_array(head))\n",
    "\n",
    "# your algorithm time complexity is:链表转数组、数组转链表和删除重复元素这些操作的时间复杂度都是O(n),所以算法整体的时间复杂度为O(n)"
   ]
  },
  {
   "cell_type": "markdown",
   "metadata": {},
   "source": [
    "## 问题 2  \n",
    "\n",
    "> 下面是一个经典的算法问题：\n",
    ">\n",
    "> - 给定包含n个整数的一个整数数组 `nums` 和一个整数目标值 `target`，请你在该数组中找出 **和为目标值** *`target`* 的那 **两个** 整数，并返回它们的**数组下标**。假设每种输入只会对应一个答案。但是，数组中同一个元素在答案里不能重复出现。你可以按任意顺序返回答案。\n",
    ">\n",
    "> 由于要多次查找数组中元素的位置，为了提高查询效率可以使用哈希表来存储数组中的数据，在哈希表中查询一个元素的复杂度为O(1)。 已知python中的字典是使用哈希表实现的，即使用`dict[key]`查询对应的value时间复杂度为O(1), python提供了查询字典是否包含某个key的功能：`key in dict`，时间复杂度也是O(1)\n",
    "\n",
    "请根据上面信息，设计一个时间复杂度为O(n) 的算法，解决上述算法问题\n",
    "\n",
    "e.g.   \n",
    "\n",
    "输入：nums=[2,7,11,15], target=9， 输出：[0，1]\n",
    "\n",
    "输入：nums=[3,2,4], target=6, 输出：[1,2]\n",
    "\n",
    "输入：nums=[3,3], target=6,  输出：[0,1]\n"
   ]
  },
  {
   "cell_type": "code",
   "execution_count": 12,
   "metadata": {},
   "outputs": [
    {
     "name": "stdout",
     "output_type": "stream",
     "text": [
      "[0, 1]\n",
      "[1, 2]\n",
      "[0, 1]\n"
     ]
    }
   ],
   "source": [
    "# add your idea here\n",
    "def twoSum(nums, target):\n",
    "    num_dict = {}\n",
    "    for index, num in enumerate(nums):\n",
    "        complement = target - num #计算吧目标值与当前元素差值\n",
    "\n",
    "        #检查是否在字典中\n",
    "        if complement in num_dict:\n",
    "            return [num_dict[complement], index]\n",
    "        num_dict[num] = index\n",
    "#e.g\n",
    "nums1 = [2, 7, 11, 15]\n",
    "target1 = 9\n",
    "print(twoSum(nums1, target1))\n",
    "nums2 = [3, 2, 4]\n",
    "target2 = 6\n",
    "print(twoSum(nums2, target2))\n",
    "\n",
    "nums3 = [3, 3]\n",
    "target3 = 6\n",
    "print(twoSum(nums3, target3))\n",
    "# your algorithm time complexity is: O(n)"
   ]
  },
  {
   "cell_type": "markdown",
   "metadata": {},
   "source": [
    "## 问题 3:   \n",
    "\n",
    "> 栈是一种常用的数据结构，编译器中通常使用栈来实现表达式求值。\n",
    ">\n",
    "> 以表达式 $3+5 \\times 8-6$​ 为例。编译器使用两个栈来完成运算，即一个栈保持操作数，另一个栈保存运算符。\n",
    ">\n",
    "> 1. 从左向右遍历表达式，遇到数字就压入操作数栈；\n",
    ">\n",
    "> 2. 遇到运算符，就与运算符栈的栈顶元素进行比较。如果比运算符栈顶元素的优先级高，就将当前运算符压入栈；如果比运算符栈顶元素的优先级低或者相同，从运算符栈中取栈顶运算符，从操作数栈的栈顶取 2 个操作数，然后进行计算，再把计算完的结果压入操作数栈，继续比较。\n",
    ">\n",
    "> 下图是 $3+5 \\times 8-6$  这个表达式的计算过程：\n",
    "\n",
    "![figure](./fig/hw2q3.png)\n",
    "\n",
    "根据上述原理，请设计一个算法完成表达式的运算，当输入为表达式字符串，返回对应的计算结果。分析算法设计思路，计算时间复杂度，并基于python编程实现\n",
    "\n",
    "**note：**\n",
    "\n",
    "1. 假设输入的表达式只会出现加（“+”），减 “-”， 乘“*”，除 “/” 四个运算符, 表达式中只会出现正整数\n",
    "2. python中` str.isdigit()`函数可以判断字符串str是否为数字，\n",
    "\n",
    "\n",
    "\n",
    "e.g. :\n",
    "---\n",
    "\n",
    "1. 输入：“$3+5 * 8 -6$”   输出：37\n",
    "\n",
    "2. 输入：“$34+13*9 + 44-12/3$”  输出：191"
   ]
  },
  {
   "cell_type": "markdown",
   "metadata": {},
   "source": [
    "idea：遍历表达式字符：遇到数字则解析完数字后压入操作数栈；遇到运算符，先比较当前运算符与栈顶运算符的优先级，然后将当前运算符压入运算符栈；遇到(:直接压入运算符栈；遇到）:连续弹出运算符并计算，知道遇到(。遍历完成后，清空运算符栈。"
   ]
  },
  {
   "cell_type": "code",
   "execution_count": 22,
   "metadata": {},
   "outputs": [
    {
     "name": "stdout",
     "output_type": "stream",
     "text": [
      "37\n",
      "191\n"
     ]
    }
   ],
   "source": [
    "# add your idea here\n",
    "#注：此题借助大模型\n",
    "def calculate(s: str) -> int:\n",
    "    def compute(num_stack, op_stack):\n",
    "        b = num_stack.pop()\n",
    "        a = num_stack.pop()\n",
    "        op = op_stack.pop()\n",
    "        if op == '+':\n",
    "            num_stack.append(a + b)\n",
    "        elif op == '-':\n",
    "            num_stack.append(a - b)\n",
    "        elif op == '*':\n",
    "            num_stack.append(a * b)\n",
    "        elif op == '/':\n",
    "            num_stack.append(int(a / b))  # 注意Python除法向零取整\n",
    "\n",
    "    num_stack = []\n",
    "    op_stack = []\n",
    "    priority = {'+': 1, '-': 1, '*': 2, '/': 2}\n",
    "    i = 0\n",
    "    n = len(s)\n",
    "\n",
    "    while i < n:\n",
    "        if s[i] == ' ':\n",
    "            i += 1\n",
    "            continue\n",
    "        if s[i].isdigit():\n",
    "            num = 0\n",
    "            while i < n and s[i].isdigit():\n",
    "                num = num * 10 + int(s[i])\n",
    "                i += 1\n",
    "            num_stack.append(num)\n",
    "        elif s[i] == '(':\n",
    "            op_stack.append(s[i])\n",
    "            i += 1\n",
    "        elif s[i] == ')':\n",
    "            while op_stack[-1] != '(':\n",
    "                compute(num_stack, op_stack)\n",
    "            op_stack.pop()  # 弹出 '('\n",
    "            i += 1\n",
    "        else:\n",
    "            while op_stack and op_stack[-1] != '(' and priority[op_stack[-1]] >= priority[s[i]]:\n",
    "                compute(num_stack, op_stack)\n",
    "            op_stack.append(s[i])\n",
    "            i += 1\n",
    "\n",
    "    while op_stack:\n",
    "        compute(num_stack, op_stack)\n",
    "\n",
    "    return num_stack[0]\n",
    "\n",
    "\n",
    "# e.g\n",
    "print(calculate(\"3+5 * 8-6\"))\n",
    "print(calculate(\"34 + 13 * 9 + 44 - 12 / 3\"))\n",
    "# your algorithm time complexity is: O(n)"
   ]
  },
  {
   "cell_type": "markdown",
   "metadata": {},
   "source": [
    "## 问题 4:  \n",
    "\n",
    "> 星球碰撞问题：现有n个星球，在同一条直线上运行，如数组A所示，元素的绝对值表示星球的质量，负数表示星球自右向左运动，正数表示星球自左向右运动，当两个星球相撞的时候，质量小的会消失，大的保持不变，**质量相同的两个星球碰撞后自右向左运动的星球消失，自左向右的星球保持不变**，假设所有星球的速度大小相同。\n",
    ">\n",
    "> $ A=[23,-8, 9, -3, -7, 9, -23, 22] $\n",
    "\n",
    "请设计一个算法模拟星球的运行情况，输出最终的星球存续情况（输出一个数组），分析算法设计思路，计算时间复杂度，并基于python编程实现。\n",
    "\n",
    "e.g.\n",
    "---\n",
    "1.  输入： A=[-3,-6,2,8, 5,-8,9,-2,1]， 输出：[-3, -6, 2, 8, 9, 1]\n",
    "\n",
    "2. 输入：A=[23,-8, 9, -3, -7, 9, -23, 22], 输出：[23, 22]\n",
    "\n"
   ]
  },
  {
   "cell_type": "code",
   "execution_count": 27,
   "metadata": {},
   "outputs": [
    {
     "name": "stdout",
     "output_type": "stream",
     "text": [
      "[-3, -6, 2, 8, 9, 1]\n",
      "[23, 22]\n"
     ]
    }
   ],
   "source": [
    "def planet(A):\n",
    "    stack = []\n",
    "    for planet in A:\n",
    "        while stack and planet < 0 < stack[-1]:\n",
    "            if abs(planet) > abs(stack[-1]):\n",
    "                stack.pop()\n",
    "                continue\n",
    "            break\n",
    "        else:\n",
    "            stack.append(planet)\n",
    "    return stack\n",
    "\n",
    "# e.g\n",
    "A1 = [-3, -6, 2, 8, 5, -8, 9, -2, 1]\n",
    "result1 = planet(A1)\n",
    "print(result1)\n",
    "A2=[23,-8, 9, -3, -7, 9, -23, 22]\n",
    "result2 = planet(A2)\n",
    "print(result2)\n",
    "# your algorithm time complexity is:O(n^2)"
   ]
  },
  {
   "cell_type": "markdown",
   "metadata": {},
   "source": [
    "## 问题 5 \n",
    "\n",
    "> 给定一个无序数组nums=[9,-3,-10,0,9,7,33]，请建立一个二叉搜索树存储数组中的所有元素，之后删除二叉树中的元素“0”，再使用中序遍历输出二叉搜索树中的所有元素。\n",
    "\n",
    "使用python编程完成上述任务，并计算时间复杂度\n"
   ]
  },
  {
   "cell_type": "code",
   "execution_count": 31,
   "metadata": {},
   "outputs": [
    {
     "name": "stdout",
     "output_type": "stream",
     "text": [
      "[-10, -3, 7, 9, 9, 33]\n"
     ]
    }
   ],
   "source": [
    "# add your idea here\n",
    "#此题解答借助大模型\n",
    "class TreeNode:\n",
    "    def __init__(self, val=0, left=None, right=None):\n",
    "        self.val = val\n",
    "        self.left = left\n",
    "        self.right = right\n",
    "\n",
    "class BST:\n",
    "    def __init__(self):\n",
    "        self.root = None\n",
    "\n",
    "    def insert(self, val):\n",
    "        if not self.root:\n",
    "            self.root = TreeNode(val)\n",
    "        else:\n",
    "            self._insert(self.root, val)\n",
    "\n",
    "    def _insert(self, node, val):\n",
    "        if val < node.val:\n",
    "            if node.left:\n",
    "                self._insert(node.left, val)\n",
    "            else:\n",
    "                node.left = TreeNode(val)\n",
    "        else:\n",
    "            if node.right:\n",
    "                self._insert(node.right, val)\n",
    "            else:\n",
    "                node.right = TreeNode(val)\n",
    "\n",
    "    def delete(self, val):\n",
    "        self.root = self._delete(self.root, val)\n",
    "\n",
    "    def _delete(self, node, val):\n",
    "        if not node:\n",
    "            return node\n",
    "        if val < node.val:\n",
    "            node.left = self._delete(node.left, val)\n",
    "        elif val > node.val:\n",
    "            node.right = self._delete(node.right, val)\n",
    "        else:\n",
    "            if not node.left:\n",
    "                return node.right\n",
    "            elif not node.right:\n",
    "                return node.left\n",
    "            else:\n",
    "                temp = self._min_value_node(node.right)\n",
    "                node.val = temp.val\n",
    "                node.right = self._delete(node.right, temp.val)\n",
    "        return node\n",
    "\n",
    "    def _min_value_node(self, node):\n",
    "        current = node\n",
    "        while current.left:\n",
    "            current = current.left\n",
    "        return current\n",
    "\n",
    "    def inorder_traversal(self):\n",
    "        return self._inorder_traversal(self.root)\n",
    "\n",
    "    def _inorder_traversal(self, node):\n",
    "        result = []\n",
    "        if node:\n",
    "            result = self._inorder_traversal(node.left)\n",
    "            result.append(node.val)\n",
    "            result = result + self._inorder_traversal(node.right)\n",
    "        return result\n",
    "\n",
    "# e.g\n",
    "nums = [9, -3, -10, 0, 9, 7, 33]\n",
    "bst = BST()\n",
    "\n",
    "# 建立二叉搜索树\n",
    "for num in nums:\n",
    "    bst.insert(num)\n",
    "\n",
    "# 删除元素“0”\n",
    "bst.delete(0)\n",
    "\n",
    "# 中序遍历输出二叉搜索树中的所有元素\n",
    "result = bst.inorder_traversal()\n",
    "print(result)\n",
    "# your algorithm time complexity is:O(n)"
   ]
  },
  {
   "cell_type": "markdown",
   "metadata": {},
   "source": [
    "## 问题 6  \n",
    "\n",
    "> 给定一个包含大写字母和小写字母的字符串 s ，返回 字符串包含的 **最长的回文子串的长度** 。请注意 区分大小写 。比如 \"Aa\" 不能当做一个回文字符串。\n",
    ">\n",
    "\n",
    "请设计一个算法解决上述问题，只需要输出最长回文子串的长度，分析算法设计思路，计算时间复杂度，并基于python编程实现\n",
    "\n",
    "e.g. 输入： s=\"adccaccd\"，  输出：7。 最长回文子串为：\"dccaccd\", 长度为7\n"
   ]
  },
  {
   "cell_type": "markdown",
   "metadata": {},
   "source": [
    "idea：创建一个二维数组dp：dp[i][j]表示字符串从索引i到j的子串是否是回文串。如果s[i] == s[j]且dp[i+1][j-1]为真，则dp[i][j]为真。对于所有单个字符，它们本身是回文串。对从长度为2的子串开始，逐步增加子串长度，填充dp数组。在填充dp数组的过程中，记录最长回文子串的长度。最后返回记录的长度"
   ]
  },
  {
   "cell_type": "code",
   "execution_count": 33,
   "metadata": {},
   "outputs": [
    {
     "name": "stdout",
     "output_type": "stream",
     "text": [
      "7\n"
     ]
    }
   ],
   "source": [
    "# add your idea here\n",
    "#此题略微借助大模型\n",
    "def longestPalindrome(s: str) -> int:\n",
    "    n = len(s)\n",
    "    if n < 2:\n",
    "        return n\n",
    "    dp = [[False] * n for _ in range(n)]\n",
    "    max_length = 1\n",
    "    for i in range(n):\n",
    "        dp[i][i] = True\n",
    "    for length in range(2, n + 1):\n",
    "        for start in range(n - length + 1):\n",
    "            end = start + length - 1\n",
    "            if s[start] == s[end] and (length == 2 or dp[start + 1][end - 1]):\n",
    "                dp[start][end] = True\n",
    "                max_length = max(max_length, length)\n",
    "\n",
    "    return max_length\n",
    "\n",
    "#e.g\n",
    "s = \"adccaccd\"\n",
    "print(longestPalindrome(s))\n",
    "# your algorithm time complexity is:O（n^2）"
   ]
  },
  {
   "cell_type": "markdown",
   "metadata": {},
   "source": [
    "## 问题 7 \n",
    "\n",
    "> 沿一条长河流分散着n座房子。你可以把这条河想象成一条轴，房子是由它们在这条轴上的坐标按顺序排列的。你的公司想在河边的特定地点设置手机基站，这样每户人家都在距离基站4公里的范围内。输入可以看作为一个升序数组，数组元素的取值为大于等于0的正整数，你需要输出最小基站的数目，基站的位置。\n",
    "\n",
    "1. 给出一个时间复杂度为$O(n$) 的算法，使所使用的基站数量最小化，分析算法设计思路，使用python编程实现\n",
    "2. 证明1.中算法产生了最优解决方案。\n",
    "\n",
    "e.g. \n",
    "\n",
    "输入： [1, 5, 12, 33, 34,35]  输出：基站数目为3， 基站位置为[1，12，33]\n",
    "\n"
   ]
  },
  {
   "cell_type": "markdown",
   "metadata": {},
   "source": [
    "idea：使用贪心算法，初始化基站列表stations 和当前覆盖范围的右边界 cover = -∞。遍历房子坐标 house：\n",
    "如果 house > cover（当前房子未被覆盖），则 house +  处设基，，更 cover = house + 8（新基站的右边界）最终stations 即为最优解。  \n",
    "#借助大模型。"
   ]
  },
  {
   "cell_type": "code",
   "execution_count": 43,
   "metadata": {},
   "outputs": [
    {
     "name": "stdout",
     "output_type": "stream",
     "text": [
      "基站数目为 3，基站位置为 [1, 12, 33]\n"
     ]
    }
   ],
   "source": [
    "# add your idea here\n",
    "#此题借助大模型\n",
    "def min_base_stations(houses):\n",
    "    stations = []\n",
    "    cover = -float('inf')\n",
    "    for house in houses:\n",
    "        if house > cover:\n",
    "            stations.append(house)\n",
    "            cover = house + 8  # 覆盖 [house-4, house+4]\n",
    "    return len(stations), stations\n",
    "#e.g\n",
    "houses = [1, 5, 12, 33, 34, 35]\n",
    "num, pos = min_base_stations(houses)\n",
    "print(f\"基站数目为 {num}，基站位置为 {pos}\")  \n",
    "# your algorithm time complexity is:O（n）"
   ]
  },
  {
   "cell_type": "markdown",
   "metadata": {},
   "source": [
    "2.证明：每次选择house + 4作为基站，确保覆盖当前未被覆盖的最左侧房子，并尽可能覆盖更多右侧房子。每个决策仅依赖当前状态，不影响后续选择。假设存在更优解，至少有一个基站的位置不在 house + 4，但这样会导致覆盖范围不足或基站冗余，矛盾。所以上述是最优算法"
   ]
  },
  {
   "cell_type": "markdown",
   "metadata": {},
   "source": [
    "## 问题 8  \n",
    "\n",
    "> 给定由n个正整数组成的一个集合$S = \\{a_1, a_2，···，a_n\\}$和一个正整数W，设计一个算法确定是否存在S的一个子集 $K \\subseteq S$, 使K中所有数之和为 $W$, 如果存在返回“True”，否则返回“False”\n",
    "\n",
    "请设计一个时间复杂度为$O(nW)$动态规划算法，解决上述问题，分析算法的设计思路，并且基于python编程实现（不需要输出子集）。\n",
    "\n",
    "e.g. \n",
    "\n",
    "输入：S = {1,4,7,3,5}， W = 11，输出：True。   因为K可以是{4,7}。\n",
    "\n"
   ]
  },
  {
   "cell_type": "markdown",
   "metadata": {},
   "source": [
    "idea:  \n",
    "```latex\n",
    "状态定义​​：\n",
    "定义dp[i][j]表示：考虑前i个元素时，能否选出若干元素使其和恰好为j\n",
    "最终目标是求dp[n][W]（n为集合大小）\n",
    "​​状态转移方程​​：\n",
    "基础情况：\n",
    "   dp[0][0] = True（空集的和为0）\n",
    "   dp[0][j] = False（j>0，空集无法组成正数和）\n",
    "递推关系：\n",
    "   对于第i个元素aᵢ：\n",
    "   不选aᵢ：dp[i][j] = dp[i-1][j]\n",
    "   选aᵢ（仅当j ≥ aᵢ）：dp[i][j] = dp[i-1][j] or dp[i-1][j-aᵢ]\n",
    "```"
   ]
  },
  {
   "cell_type": "code",
   "execution_count": 48,
   "metadata": {},
   "outputs": [
    {
     "name": "stdout",
     "output_type": "stream",
     "text": [
      "True\n"
     ]
    }
   ],
   "source": [
    "# add your idea here\n",
    "#此题借助大模型参考\n",
    "def subset_sum(S, W):\n",
    "    n = len(S)\n",
    "    dp = [False] * (W + 1)\n",
    "    dp[0] = True\n",
    "\n",
    "    for num in S:\n",
    "        for j in range(W, num - 1, -1):\n",
    "            if dp[j - num]:\n",
    "                dp[j] = True\n",
    "    return dp[W]\n",
    "#e.g\n",
    "S = {1, 4, 7, 3, 5}\n",
    "W = 11\n",
    "print(subset_sum(S, W))\n",
    "# your algorithm time complexity is: O(nW)"
   ]
  },
  {
   "cell_type": "markdown",
   "metadata": {},
   "source": [
    "\n",
    "\n",
    "## 问题 9 \n",
    "\n",
    "> 给定一个n个物品的集合。物体的重量为$w_1, w_2，…、w_n$，物品的价值分别是$v_1、v_2、…v_n$。给你**两个**重量为 $c$ 的背包。如果你带了一个东西，它可以放在一个背包里，也可以放在另一个背包里，但不能同时放在两个背包里。所有权重和价值都是正整数。\n",
    "\n",
    "1. 设计一个时间复杂度为 $O(nc^2)$ 的动态规划算法，确定可以放入两个背包的物体的最大价值。分析算法设计思路，并基于python编程实现\n",
    "2. \\* 修改1中的算法，输出每个背包的内容（物品对应下标）。\n",
    "\n",
    "e.g.: \n",
    "\n",
    "输入 V=[1,3,2,5,8,7], W=[1,3,2,5,8,7], c=7, 输出：最大价值=14，背包装的物品为：[6] [4，3] （同一个背包中物品装入顺序对结果无影响）  \n"
   ]
  },
  {
   "cell_type": "markdown",
   "metadata": {},
   "source": [
    "#本题借助大模型参考  \n",
    "伪代码：  \n",
    "```latex\n",
    "\n",
    "FUNCTION DualKnapsack(V, W, c):\r\n",
    "    n ← LENGTH(V)\r\n",
    "    // 初始化DP表和物品记录表\r\n",
    "    dp ← 二维数组[c+1][c+1] 初始化为0\r\n",
    "    bag1 ← 二维数组[c+1][c+1] 初始化为空列表\r\n",
    "    bag2 ← 二维数组[c+1][c+1] 初始化为空列表\r\n",
    "    \r\n",
    "    FOR i FROM 0 TO n-1 DO:\r\n",
    "        v ← V[i]\r\n",
    "        w ← W[i]\r\n",
    "        FOR j FROM c DOWNTO 0 DO:\r\n",
    "            FOR k FROM c DOWNTO 0 DO:\r\n",
    "                // 不选当前物品的情况（默认继承）\r\n",
    "                new_bag1 ← bag1[j][k]\r\n",
    "                new_bag2 ← bag2[j][k]\r\n",
    "                \r\n",
    "                // 尝试放入背包1\r\n",
    "                IF j ≥ w AND dp[j-w][k] + v > dp[j][k] THEN:\r\n",
    "                    dp[j][k] ← dp[j-w][k] + v\r\n",
    "                    new_bag1 ← COPY(bag1[j-w][k]) + [i+1]  // 1-based索引\r\n",
    "                    new_bag2 ← COPY(bag2[j-w][k])\r\n",
    "                \r\n",
    "                // 尝试放入背包2\r\n",
    "                IF k ≥ w AND dp[j][k-w] + v > dp[j][k] THEN:\r\n",
    "                    dp[j][k] ← dp[j][k-w] + v\r\n",
    "                    new_bag1 ← COPY(bag1[j][k-w])\r\n",
    "                    new_bag2 ← COPY(bag2[j][k-w]) + [i+1]\r\n",
    "                \r\n",
    "                // 更新选择路径\r\n",
    "                bag1[j][k] ← new_bag1\r\n",
    "                bag2[j][k] ← new_bag2\r\n",
    "    \r\n",
    "    // 对背包2的物品按降序排列（匹配示例输出）\r\n",
    "    sorted_bag2 ← SORT(bag2[c][c], DESCENDING)\r\n",
    "    RETURN dp[c][c], bag1[c][c], sorted_bag2\r\n",
    "END FUNCTION\n",
    "```"
   ]
  },
  {
   "cell_type": "code",
   "execution_count": 68,
   "metadata": {},
   "outputs": [
    {
     "name": "stdout",
     "output_type": "stream",
     "text": [
      "最大价值: 14\n",
      "背包1的物品索引: [6]\n",
      "背包2的物品索引: [4, 3]\n"
     ]
    }
   ],
   "source": [
    "# add your idea here\n",
    "#本题借助大模型参考\n",
    "def dual_knapsack_with_ordered_output(V, W, c):\n",
    "    n = len(V)\n",
    "    dp = [[0] * (c + 1) for _ in range(c + 1)]\n",
    "    bag1_items = [[[] for _ in range(c + 1)] for _ in range(c + 1)]\n",
    "    bag2_items = [[[] for _ in range(c + 1)] for _ in range(c + 1)]\n",
    "\n",
    "    for i in range(n):\n",
    "        v, w = V[i], W[i]\n",
    "        for j in range(c, -1, -1):\n",
    "            for k in range(c, -1, -1):\n",
    "                # 不选当前物品\n",
    "                new_bag1 = bag1_items[j][k]\n",
    "                new_bag2 = bag2_items[j][k]\n",
    "\n",
    "                # 尝试放入第一个背包\n",
    "                if j >= w:\n",
    "                    if dp[j - w][k] + v > dp[j][k]:\n",
    "                        dp[j][k] = dp[j - w][k] + v\n",
    "                        new_bag1 = bag1_items[j - w][k] + [i + 1]  # 1-based索引\n",
    "                        new_bag2 = bag2_items[j - w][k].copy()\n",
    "\n",
    "                # 尝试放入第二个背包\n",
    "                if k >= w:\n",
    "                    if dp[j][k - w] + v > dp[j][k]:\n",
    "                        dp[j][k] = dp[j][k - w] + v\n",
    "                        new_bag1 = bag1_items[j][k - w].copy()\n",
    "                        new_bag2 = bag2_items[j][k - w] + [i + 1]  # 1-based索引\n",
    "\n",
    "                # 更新选择路径\n",
    "                bag1_items[j][k] = new_bag1\n",
    "                bag2_items[j][k] = new_bag2\n",
    "\n",
    "    max_val = dp[c][c]\n",
    "    # 对背包2的物品索引进行排序，使其符合题目要求的[4,3]输出\n",
    "    sorted_bag2 = sorted(bag2_items[c][c], reverse=True)\n",
    "    return max_val, bag1_items[c][c], sorted_bag2\n",
    "\n",
    "\n",
    "# 示例测试\n",
    "V = [1, 3, 2, 5, 8, 7]\n",
    "W = [1, 3, 2, 5, 8, 7]\n",
    "c = 7\n",
    "\n",
    "max_val, bag1, bag2 = dual_knapsack_with_ordered_output(V, W, c)\n",
    "print(f\"最大价值: {max_val}\")\n",
    "print(f\"背包1的物品索引: {bag1}\")\n",
    "print(f\"背包2的物品索引: {bag2}\")\n",
    "# your algorithm time complexity is: O(nc^2)"
   ]
  },
  {
   "cell_type": "markdown",
   "metadata": {},
   "source": [
    "## 问题 10 \n",
    "\n",
    "> 给定两个字符串 $x[1..n]$ 和 $y[1..m]$，我们想通过以下操作将 $x$ 变换为 $y$ :\n",
    ">\n",
    "> **插入**：在 $x$ 中插入一个字符(在任何位置)；**删除**：从 $x$ 中删除一个字符(在任何位置)； **替换**：用另一个字符替换 $x$ 中的一个字符。\n",
    ">\n",
    "> 例如: $x = abcd$, $y = bcfe$，\n",
    ">\n",
    "> - 将 $x$ 转换为 $y$ 的一种可能方法是：1. 删除 $x$ 开头的 $a$, $x$变成 $bcd$； 2. 将 $x$ 中的字符 $d$ 替换为字符 $f$。$x$ 变成 $bcf$； 3. 在 $x$ 的末尾插入字符 $e$。$x$ 变成 $bcfe$。\n",
    ">\n",
    "> - 另一种可能的方法：1. 删除 $x$ 开头的 $a$,  $x$ 变成 $bcd$； 2. 在 $x$ 中字符 $d$ 之前插入字符 $f$。$x$ 变成 $bcfd$。3. 将 $x$ 中的字符 $d$ 替换为字符 $e$。$x$ 变成 $bcfe$。\n",
    "\n",
    "设计一个时间复杂度为 $O(mn)$ 的算法，返回将 $x$ 转换为 $y$ 所需的最少操作次数。分析算法设计思路，并基于python编程实现。\n"
   ]
  },
  {
   "cell_type": "markdown",
   "metadata": {},
   "source": [
    "#本题借助大模型参考  \n",
    "伪代码  \n",
    "```latex\n",
    "FUNCTION EditDistance(x, y):\r\n",
    "    m ← LENGTH(x)\r\n",
    "    n ← LENGTH(y)\r\n",
    "    \r\n",
    "    // 初始化DP表 (m+1)×(n+1)\r\n",
    "    dp ← 二维数组[m+1][n+1]\r\n",
    "    \r\n",
    "    // 边界条件初始化\r\n",
    "    FOR i FROM 0 TO m DO:\r\n",
    "        dp[i][0] ← i  // 删除i次\r\n",
    "    FOR j FROM 0 TO n DO:\r\n",
    "        dp[0][j] ← j  // 插入j次\r\n",
    "    \r\n",
    "    // 动态规划填表\r\n",
    "    FOR i FROM 1 TO m DO:\r\n",
    "        FOR j FROM 1 TO n DO:\r\n",
    "            IF x[i-1] == y[j-1] THEN:\r\n",
    "                dp[i][j] ← dp[i-1][j-1]  // 字符相同，无需操作\r\n",
    "            ELSE:\r\n",
    "                insert_cost ← dp[i][j-1] + 1    // 插入操作\r\n",
    "                delete_cost ← dp[i-1][j] + 1    // 删除操作\r\n",
    "                replace_cost ← dp[i-1][j-1] + 1 // 替换操作\r\n",
    "                dp[i][j] ← MIN(insert_cost, delete_cost, replace_cost)\r\n",
    "    \r\n",
    "    RETURN dp[m][n]  // 返回最终编辑距离\r\n",
    "END FUNCTION\n",
    "```"
   ]
  },
  {
   "cell_type": "code",
   "execution_count": 72,
   "metadata": {},
   "outputs": [
    {
     "name": "stdout",
     "output_type": "stream",
     "text": [
      "最小编辑距离: 3\n"
     ]
    }
   ],
   "source": [
    "# add your idea here\n",
    "#本题借助大模型参考\n",
    "def min_edit_distance(x, y):\n",
    "    m, n = len(x), len(y)\n",
    "    dp = [[0] * (n + 1) for _ in range(m + 1)]\n",
    "\n",
    "    # 初始化边界条件\n",
    "    for i in range(m + 1):\n",
    "        dp[i][0] = i\n",
    "    for j in range(n + 1):\n",
    "        dp[0][j] = j\n",
    "\n",
    "    # 动态规划填表\n",
    "    for i in range(1, m + 1):\n",
    "        for j in range(1, n + 1):\n",
    "            if x[i - 1] == y[j - 1]:\n",
    "                dp[i][j] = dp[i - 1][j - 1]\n",
    "            else:\n",
    "                dp[i][j] = 1 + min(dp[i][j - 1],  # 插入\n",
    "                                   dp[i - 1][j],  # 删除\n",
    "                                   dp[i - 1][j - 1])  # 替换\n",
    "\n",
    "    return dp[m][n]\n",
    "\n",
    "\n",
    "# e.g\n",
    "x, y = \"abcd\", \"bcfe\"\n",
    "print(f\"最小编辑距离: {min_edit_distance(x, y)}\")  # 输出: 3\n",
    "# your algorithm time complexity is: O(mn)"
   ]
  }
 ],
 "metadata": {
  "kernelspec": {
   "display_name": "Python 3 (ipykernel)",
   "language": "python",
   "name": "python3"
  },
  "language_info": {
   "codemirror_mode": {
    "name": "ipython",
    "version": 3
   },
   "file_extension": ".py",
   "mimetype": "text/x-python",
   "name": "python",
   "nbconvert_exporter": "python",
   "pygments_lexer": "ipython3",
   "version": "3.12.3"
  }
 },
 "nbformat": 4,
 "nbformat_minor": 4
}
