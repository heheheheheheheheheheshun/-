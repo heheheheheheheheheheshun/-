{
 "cells": [
  {
   "cell_type": "markdown",
   "metadata": {},
   "source": [
    "## algorithm design and anlysis-2025 spring  homework 4\n",
    "**Deadline**：2025.5.14\n",
    "\n",
    "**name**:\n",
    "\n",
    "\n",
    "note：\n",
    "---\n",
    "1. 带有\\*的题目，申请免上课的同学，必须完成，其他同学选作；\n",
    "2. 请独立完成，如求助了他人或者大模型，请著明，并且不可省略算法分析部分；\n",
    "4. 如若作答有雷同，全部取消成绩；\n",
    "3. 需要书面作答的题目，可以通过引用图片的形式添加，但是注意上传项目时包含所引用的图片的源文件；\n",
    "4. $log_n$ 默认表示$log_2{n}$;"
   ]
  },
  {
   "cell_type": "markdown",
   "metadata": {},
   "source": [
    "## 问题 1 \n",
    "**最小生成树（Minimum Spanning Tree）**\n",
    "\n",
    "设  **G**  为一个带权重的连通无向图，且所有边的权重均不相等。令$e_i$ 为权重第 $i$ 小的边。最小生成树（MST）是否必须包含 $e_1$ ? 同理，是否必须包含 $e_2$ 和 $e_3$ ? 若必须包含，请给出证明；否则，请构造反例。需从基本原理论证，不能依赖割引理(cut lemma) 或 Prim/Kruskal算法的正确性。\n"
   ]
  },
  {
   "cell_type": "markdown",
   "metadata": {},
   "source": [
    "answer:#此题借助大模型  \n",
    "权重最小的e1一定在MST中：证明：假设e1不在任何MST中。设T是一个MST，则加入e1后会在T中形成一个环。由于e1是权重最小的边，该环中必然存在另一条边e^t的权重大于e1。此时，用e1替换e^t可以得到一颗新的生成树T^t，其总权重比T更小，这与T是MST的假设矛盾。因此，e1必须包含在MST中。  \n",
    "权重第二小的边e2不一定在MST中：反例；构造图G：顶点{A,B,C},边：e1=(A,B)（权重1），e2=(A,C)（权重2），e=2(B,C)（权重3），此时，e2是权重第二小的边，但MST由e1和e3组成（总权重4），不包含e2。若强制包含e2，则MST总权重为1+2=3，但此时图不连通（缺少边（B,C）），矛盾。因此，e2不一定在MST中。  \n",
    "权重第三小的边e3不一定在MST中，继续使用上诉的图，MST由e1和e2组成（总权重3），不包含e3。若强制包含e3，则MST总权重为1+3=4，比原MST更差。因此，e3不一定在MST中。  "
   ]
  },
  {
   "cell_type": "markdown",
   "metadata": {},
   "source": [
    "## 问题 2 \n",
    "**瓶颈生成树（Bottleneck Spanning Tree）**\n",
    "\n",
    "带有权重的无向图 $G(V,E,w)$ 的瓶颈生成树，表现为：在所有生成树中，最大权重边的权重值最小。即，BST $T$ 最小化瓶颈损失 $c(T)=max_{e \\in T}{w(e)}$。\n",
    "\n",
    "1. 证明 $G$ 的每一个最小生成树（MST）都是瓶颈生成树（BST）\n",
    "2. 设计一个线性时间复杂度的算法：， 对于一个图 $G(V,E,w)$ 和一个整数 $b$，判断图 $ G$ 是否存在一个瓶颈生成树，其最大权重边的权重不超过 $b$，分析算法设计思路，并基于python编程实现。\n",
    "3. 设计一个线性时间复杂度的算法：对于给定的图 $G(V,E,w)$，找到其瓶颈生成树，分析算法设计思路，并基于python编程实现。"
   ]
  },
  {
   "cell_type": "markdown",
   "metadata": {},
   "source": [
    "idea：  \n",
    "1.证明：假设T是一个MST，其最大边权重为Wmax。此时需要证明T也是一个BST，即不存在其它生成树T'的最大边权重W'max<Wmax。使用反证法：假设存在一个生成树T'，其最大边权重W'max<Wmax。由于T是MST，其总权重W(T)≤W（T'）。但T'的所有边权重不超过W'max,而T包含一条权重为Wmax的边（Wmax>W'max）,所以T'的总权重必须小于T，与T是MST矛盾，因此,T的最大边权重是所有生成树中最小的，即T也是BST。故每个 MST 都是 BST。  \n",
    "2.关键点是BST的最大边权重≤b当且仅当图G的b-约束子图（仅保留权重≤b的边）是连通的。步骤：遍历所有边，筛选出权重≤b的边，构成子图Gb；然后再检查Gb是否连通。  \n",
    "3.关键点BST的最大边权重是使得Gb（边权重≤b的子图）连通的最小b。步骤：对所有边按权重升序排序（O（|E|log|E|）），然后使用类似Kruskal算法的并查集（Union-Find）结构，逐步添加边直到图连通，记录最大边权重。"
   ]
  },
  {
   "cell_type": "code",
   "execution_count": 2,
   "metadata": {},
   "outputs": [
    {
     "name": "stdout",
     "output_type": "stream",
     "text": [
      "True\n",
      "False\n"
     ]
    }
   ],
   "source": [
    "#此题借助大模型\n",
    "# add your code here\n",
    "#第二问\n",
    "from collections import deque\n",
    "def has_bst_with_max_b(G, b):\n",
    "    # G: adjacency list, e.g., {u: [(v, w), ...]}\n",
    "    # Step 1: Build subgraph with edges where w <= b\n",
    "    subgraph = {u: [] for u in G}\n",
    "    for u in G:\n",
    "        for (v, w) in G[u]:\n",
    "            if w <= b:\n",
    "                subgraph[u].append(v)\n",
    "    \n",
    "    # Step 2: Check connectivity via BFS\n",
    "    if not subgraph:\n",
    "        return False\n",
    "    visited = set()\n",
    "    queue = deque([next(iter(subgraph))])\n",
    "    while queue:\n",
    "        u = queue.popleft()\n",
    "        if u not in visited:\n",
    "            visited.add(u)\n",
    "            for v in subgraph[u]:\n",
    "                if v not in visited:\n",
    "                    queue.append(v)\n",
    "    return len(visited) == len(G)\n",
    "\n",
    "#e.g\n",
    "G = {0: [(1, 1), (2, 3)], 1: [(0, 1), (2, 2)], 2: [(0, 3), (1, 2)]}\n",
    "print(has_bst_with_max_b(G, 2))  \n",
    "print(has_bst_with_max_b(G, 1))  "
   ]
  },
  {
   "cell_type": "code",
   "execution_count": 4,
   "metadata": {},
   "outputs": [
    {
     "name": "stdout",
     "output_type": "stream",
     "text": [
      "2\n"
     ]
    }
   ],
   "source": [
    "#第三问\n",
    "#借助大模型\n",
    "class UnionFind:\n",
    "    def __init__(self, size):\n",
    "        self.parent = list(range(size))\n",
    "\n",
    "    def find(self, x):\n",
    "        if self.parent[x] != x:\n",
    "            self.parent[x] = self.find(self.parent[x])\n",
    "        return self.parent[x]\n",
    "\n",
    "    def union(self, x, y):\n",
    "        x_root = self.find(x)\n",
    "        y_root = self.find(y)\n",
    "        if x_root != y_root:\n",
    "            self.parent[y_root] = x_root\n",
    "\n",
    "\n",
    "def find_bottleneck_spanning_tree(G):\n",
    "    # Step 1: Collect all edges and sort by weight\n",
    "    edges = []\n",
    "    for u in G:\n",
    "        for (v, w) in G[u]:\n",
    "            if u < v:  # Avoid duplicate edges\n",
    "                edges.append((w, u, v))\n",
    "    edges.sort()  # O(|E| log |E|), but can be O(|E|) with radix sort\n",
    "\n",
    "    # Step 2: Kruskal-like algorithm to find BST\n",
    "    uf = UnionFind(len(G))\n",
    "    max_weight = 0\n",
    "    for w, u, v in edges:\n",
    "        if uf.find(u) != uf.find(v):\n",
    "            uf.union(u, v)\n",
    "            max_weight = w\n",
    "            if sum(uf.find(u) == u for u in range(len(G))) == 1:\n",
    "                break  # All connected\n",
    "    return max_weight\n",
    "\n",
    "\n",
    "#e.g\n",
    "G = {0: [(1, 1), (2, 3)], 1: [(0, 1), (2, 2)], 2: [(0, 3), (1, 2)]}\n",
    "print(find_bottleneck_spanning_tree(G))"
   ]
  },
  {
   "cell_type": "markdown",
   "metadata": {},
   "source": [
    "## 问题 3\n",
    "\n",
    "**道路网（Road Network）**\n",
    "\n",
    "假设有一个以图 $ G(V, E, l) $ 表示的道路网络，连接了一组城市 $ V $。我们假设该网络是有向的，并且每条道路 $(u, v) \\in E$ 都有一个非负的长度 $ l(u, v) $。一条新的道路即将被建造，因此有一个列表 $ E' $ 包含它可以连接的城市对。每对 $(u, v) \\in E'$ 都有一个对应的长度 $ l'(u, v) $。我们希望选择一对城市，使得两个城市 $ s, t \\in V $ 之间的距离减少最大。请为此问题编写一个高效的算法，并详细解释算法的正确性和复杂度。\n"
   ]
  },
  {
   "cell_type": "code",
   "execution_count": 10,
   "metadata": {},
   "outputs": [],
   "source": [
    "#借助大模型\n",
    "#伪代码\n",
    "def find_optimal_road(G, E_prime):\n",
    "    # Step 1: Compute all-pairs shortest paths in G\n",
    "    d = FloydWarshall(G)  # d[s][t] = shortest distance from s to t in G\n",
    "\n",
    "    max_reduction = 0\n",
    "    best_s, best_t = None, None\n",
    "    best_road = None\n",
    "\n",
    "    # Step 2: Iterate over all candidate roads (u, v) in E'\n",
    "    for (u, v, l_prime) in E_prime:\n",
    "        # Check improvement for all (s, t)\n",
    "        for s in V:\n",
    "            for t in V:\n",
    "                new_dist = d[s][u] + l_prime + d[v][t]\n",
    "                if new_dist < d[s][t]:\n",
    "                    reduction = d[s][t] - new_dist\n",
    "                    if reduction > max_reduction:\n",
    "                        max_reduction = reduction\n",
    "                        best_s, best_t = s, t\n",
    "                        best_road = (u, v)\n",
    "\n",
    "    return (best_s, best_t, best_road, max_reduction)"
   ]
  },
  {
   "cell_type": "markdown",
   "metadata": {},
   "source": [
    "#借助大模型  \n",
    "正确性分析：  \n",
    "1​Floyd-Warshall的正确性​​：确保dG(s,t)是原图的最短距离。  \n",
    "2改进量的计算：对于每条候选道路（u,v），计算s→u→v→t的新路径长度，并与原最短路径比较。  \n",
    "3全局最优性：通过枚举所有（s,t）和(u,v)，确保找到最大改进。  \n",
    "复杂度分析：\n",
    "1​Floyd-Warshal：O（|V|^3）.  \n",
    "2枚举候选道路：对每条（u,v）∈E'（共|E'|条）；检查所有（s,t）（共|V|^2对）；总时间O（|E'|·|V|^2）  \n",
    "总时间复杂度：O(|v|^3+|E'|·|V|^2)"
   ]
  },
  {
   "cell_type": "markdown",
   "metadata": {},
   "source": [
    "## 问题 4\n",
    "\n",
    "**逃离问题**\n",
    "\n",
    "一个 $ n \\times n $ 的网格是一个无向图，由 $ n $ 行和 $ n $ 列的顶点组成，如下图所示。我们用 $(i,j)$ 表示第 $ i $ 行和第 $ j $ 列的顶点。除了边界顶点，网格中的所有顶点都有四个邻居，即满足 $ i = 1, i = n, j = 1 $ 或 $ j = n $ 的点 $(i,j)$。\n",
    "\n",
    "给定网格中的 $ m \\leq n^2 $ 个起点 $(x_1, y_1), (x_2, y_2), \\cdots , (x_m, y_m)$，逃离问题是确定是否存在 $ m $ 条顶点不相交的路径（即路径之间不相交），从这些起点到边界上的任意 $ m $ 个不同点。例如，图1中的网格存在逃离。\n",
    "\n",
    "(1) 该问题可以看作是一个最大流问题。考虑一个流网络，其中顶点和边都有容量。也就是说，进入任何给定顶点的总正流量受到容量限制。证明在具有边和顶点容量的网络中确定最大流可以简化为在具有可比大小的普通流网络上的最大流问题。更准确地说，你需要将一个具有顶点和边容量的网络 $ G = (V,E) $ 转换为另一个仅具有边容量的网络 $ G' = (V', E') $，使得两个网络上的最大流相同，并且你构建的新网络具有 $ V' = O(V) $ 个顶点和 $ E' = O(E) $ 条边。你可以假设网络是连通的。\n",
    "\n",
    "(2) 描述一个解决逃离问题的高效算法，并分析其运行时间。\n",
    "\n",
    "\n",
    "<div align=\"center\"> <img alt=\"图片\" src=\"./fig/escepe-p.png\"> </div>\n",
    "<center> 图2. 逃脱问题网格，起始顶点为黑色，其他网格顶点为白色</center>"
   ]
  },
  {
   "cell_type": "markdown",
   "metadata": {},
   "source": [
    "#借助大模型  \n",
    "第一问：使用顶点分裂方法。  \n",
    "1.对每个顶点u∈V进行分裂：将u拆分为两个顶点uin和uout；所有进入U的边改为进入uin;所有离开u的边改为从uout离开；添加一条从uin到uout的边，容量为c（u）（原顶点容量）  \n",
    "2.边容量保留：原边（u,v）的容量c（u,v）直接赋给（uout,vin）。  \n",
    "构造示例：  \n",
    "原网络G：顶点u容量为c(u),边(u,v)容量为c(u,v)。  \n",
    "新网络G'：顶点：V'={uin,uout|u∈V}。边：E'={（uin,uout）|u∈V}∪{uout,uin|(u,v)∈E}  \n",
    "正确性证明：  \n",
    "顶点容量约束通过（ｕｉｎ，ｕｏｕｔ）的边容量实现；最大流不变，因为流必须通过ｕｉｎ→ｕｏｕｔ的边，受限于ｃ（ｕ）"
   ]
  },
  {
   "cell_type": "markdown",
   "metadata": {},
   "source": [
    "```latex\n",
    "构造算法步骤：　　\n",
    "１.构造流网络G：源点S：连接所有的起点（Ｘｉ，Ｙｉ）；中间顶点：网格中所有顶点，容量为１；汇点ｔ：连接所有边界顶点；边容量：网格边的容量为１。　　\n",
    "２.转换为仅边容量的网络G'：使用第一部分的方法，将顶点容量转换为边容量。　　\n",
    "３.计算最大流：使用Dｉｎｉｃ算法计算ｓ到ｔ的最大流；如果最大流＝ｍ，则存在ｍ条顶点不相交的路劲；否则不存在。　　\n",
    "＃伪代码　　\n",
    "def escape_problem(grid, start_points):　　\n",
    "    # Step 1: Build flow network with vertex capacities　　\n",
    "    G = build_flow_network(grid, start_points)　　　\n",
    "     # Step 2: Convert to edge-capacity-only network via vertex splitting　　\n",
    "    G_prime = vertex_splitting(G)　　\n",
    "    # Step 3: Compute max flow　　\n",
    "    max_flow = dinic(G_prime, s, t)　　\n",
    "    return max_flow == len(start_points)　\n",
    "```"
   ]
  }
 ],
 "metadata": {
  "kernelspec": {
   "display_name": "Python 3 (ipykernel)",
   "language": "python",
   "name": "python3"
  },
  "language_info": {
   "codemirror_mode": {
    "name": "ipython",
    "version": 3
   },
   "file_extension": ".py",
   "mimetype": "text/x-python",
   "name": "python",
   "nbconvert_exporter": "python",
   "pygments_lexer": "ipython3",
   "version": "3.12.3"
  }
 },
 "nbformat": 4,
 "nbformat_minor": 4
}
